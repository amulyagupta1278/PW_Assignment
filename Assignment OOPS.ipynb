{
 "cells": [
  {
   "cell_type": "code",
   "execution_count": null,
   "id": "af3d722d-e823-4b1d-a671-26d6093cbc4a",
   "metadata": {},
   "outputs": [],
   "source": [
    "Q1, Create a vehicle class with an init method having instance variables as name_of_vehicle, max_speed\n",
    "    and average_of_vehicle."
   ]
  },
  {
   "cell_type": "code",
   "execution_count": 2,
   "id": "f295641b-8910-4428-b9e8-d961043f3871",
   "metadata": {},
   "outputs": [
    {
     "name": "stdout",
     "output_type": "stream",
     "text": [
      "Name of Vehicle: Toyota Camry\n",
      "Max Speed: 120\n",
      "Average Speed: 50\n"
     ]
    }
   ],
   "source": [
    "class Vehicle:\n",
    "    def __init__(self, name_of_vehicle, max_speed, average_speed):\n",
    "        self.name_of_vehicle = name_of_vehicle\n",
    "        self.max_speed = max_speed\n",
    "        self.average_speed = average_speed\n",
    "\n",
    "car = Vehicle(\"Toyota Camry\", 120, 50)\n",
    "print(\"Name of Vehicle:\", car.name_of_vehicle)\n",
    "print(\"Max Speed:\", car.max_speed)\n",
    "print(\"Average Speed:\", car.average_speed)"
   ]
  },
  {
   "cell_type": "code",
   "execution_count": 4,
   "id": "22354c2e-0f6c-4c95-b553-be3d8171bb29",
   "metadata": {},
   "outputs": [
    {
     "data": {
      "text/plain": [
       "'Q2, Create a child class car from the vehicle class created in Que 1, which will inherit the vehicle class.\\n    Create a method named seating_capacity which takes capacity as an argument and returns the name of\\n    the vehicle and its seating capacity. '"
      ]
     },
     "execution_count": 4,
     "metadata": {},
     "output_type": "execute_result"
    }
   ],
   "source": [
    "\"\"\"Q2, Create a child class car from the vehicle class created in Que 1, which will inherit the vehicle class.\n",
    "    Create a method named seating_capacity which takes capacity as an argument and returns the name of\n",
    "    the vehicle and its seating capacity. \"\"\""
   ]
  },
  {
   "cell_type": "code",
   "execution_count": 1,
   "id": "bad7a6ea-406a-4d12-bfe3-25234d942e7a",
   "metadata": {},
   "outputs": [
    {
     "name": "stdout",
     "output_type": "stream",
     "text": [
      "Name of Vehicle: Toyota Camry\n",
      "Max Speed: 120\n",
      "Average Speed: 50\n",
      "Toyota Camry has a seating capacity of 5 passengers.\n"
     ]
    }
   ],
   "source": [
    "class Vehicle:\n",
    "    def __init__(self, name_of_vehicle, max_speed, average_speed):\n",
    "        self.name_of_vehicle = name_of_vehicle\n",
    "        self.max_speed = max_speed\n",
    "        self.average_speed = average_speed\n",
    "class Car(Vehicle):\n",
    "    def __init__(self,  name_of_vehicle, max_speed, average_speed, seating_capacity):\n",
    "        super().__init__(name_of_vehicle, max_speed, average_speed)\n",
    "        self.seating_capacity = seating_capacity\n",
    "        \n",
    "    def seating_capacity(self, capacity):\n",
    "        self.seating_capacity = capacity\n",
    "\n",
    "    def get_seating_capacity(self):\n",
    "        return f\"{self.name_of_vehicle} has a seating capacity of {self.seating_capacity} passengers.\"\n",
    "\n",
    "car = Car(\"Toyota Camry\", 120, 50, 5)\n",
    "print(\"Name of Vehicle:\", car.name_of_vehicle)\n",
    "print(\"Max Speed:\", car.max_speed)\n",
    "print(\"Average Speed:\", car.average_speed)\n",
    "print(car.get_seating_capacity())"
   ]
  },
  {
   "cell_type": "code",
   "execution_count": null,
   "id": "946c99dc-a581-4df4-be82-960d9731de97",
   "metadata": {},
   "outputs": [],
   "source": [
    "# Q3. What is multiple inheritance? Write a python code to demonstrate multiple inheritance."
   ]
  },
  {
   "cell_type": "code",
   "execution_count": 3,
   "id": "be9af310-9a53-4af7-9930-4e8f77225b4c",
   "metadata": {},
   "outputs": [
    {
     "name": "stdout",
     "output_type": "stream",
     "text": [
      "Vehicle Name: Toyota Camry, Max Speed: 120 km/h, Engine Type: Gasoline\n"
     ]
    }
   ],
   "source": [
    "#Ans. Multiple Inheritance is a concept of OOPS where a class can inherit attributes and methods from more than one base class. \n",
    "\n",
    "class Vehicle:\n",
    "    def __init__(self, name, max_speed):\n",
    "        self.name = name\n",
    "        self.max_speed = max_speed\n",
    "\n",
    "    def get_info(self):\n",
    "        return f\"Vehicle Name: {self.name}, Max Speed: {self.max_speed} km/h\"\n",
    "\n",
    "class Engine:\n",
    "    def __init__(self, fuel_type):\n",
    "        self.fuel_type = fuel_type\n",
    "\n",
    "    def get_engine_info(self):\n",
    "        return f\"Engine Type: {self.fuel_type}\"\n",
    "\n",
    "class Car(Vehicle, Engine):\n",
    "    def __init__(self, name, max_speed, fuel_type):\n",
    "        Vehicle.__init__(self, name, max_speed)\n",
    "        Engine.__init__(self, fuel_type)\n",
    "\n",
    "    def get_car_info(self):\n",
    "        vehicle_info = self.get_info()\n",
    "        engine_info = self.get_engine_info()\n",
    "        return f\"{vehicle_info}, {engine_info}\"\n",
    "\n",
    "# Example usage of multiple inheritance\n",
    "my_car = Car(\"Toyota Camry\", 120, \"Gasoline\")\n",
    "print(my_car.get_car_info())"
   ]
  },
  {
   "cell_type": "code",
   "execution_count": 5,
   "id": "bbb87707-72cd-4362-94e5-d7611cb98c93",
   "metadata": {},
   "outputs": [],
   "source": [
    "#Q4. What are getter and setter in python? Create a class and create a getter and a setter method in this class.    \n",
    "    "
   ]
  },
  {
   "cell_type": "code",
   "execution_count": 8,
   "id": "c85713e7-ed95-4aca-aa5f-60dc5eb95370",
   "metadata": {},
   "outputs": [
    {
     "name": "stdout",
     "output_type": "stream",
     "text": [
      "Student Name: Alice\n",
      "Student Age: 20\n",
      "Updated Student Name: Bob\n",
      "Updated Student Age: 25\n",
      "Name must be a string.\n"
     ]
    }
   ],
   "source": [
    "\"\"\"Ans:  Getter and setter methods are used to access and modify the attributes of a class, while providing a level of encapsulation and control over the data. Getter methods are used to retrieve the value of an attribute,\n",
    "      and setter methods are used to modify or set the value of an attribute. \n",
    "\"\"\"\n",
    "class Student:\n",
    "    def __init__(self, name, age):\n",
    "        self._name = name  # A single underscore is a convention to indicate a \"protected\" attribute\n",
    "        self._age = age\n",
    "\n",
    "    # Getter method for name\n",
    "    def get_name(self):\n",
    "        return self._name\n",
    "\n",
    "    # Setter method for name\n",
    "    def set_name(self, name):\n",
    "        if isinstance(name, str):\n",
    "            self._name = name\n",
    "        else:\n",
    "            print(\"Name must be a string.\")\n",
    "\n",
    "    # Getter method for age\n",
    "    def get_age(self):\n",
    "        return self._age\n",
    "\n",
    "    # Setter method for age\n",
    "    def set_age(self, age):\n",
    "        if isinstance(age, int) and age >= 0:\n",
    "            self._age = age\n",
    "        else:\n",
    "            print(\"Age must be a non-negative integer.\")\n",
    "\n",
    "student = Student(\"Alice\", 20)\n",
    "\n",
    "print(\"Student Name:\", student.get_name())\n",
    "print(\"Student Age:\", student.get_age())\n",
    "\n",
    "student.set_name(\"Bob\")\n",
    "student.set_age(25)\n",
    "\n",
    "print(\"Updated Student Name:\", student.get_name())\n",
    "print(\"Updated Student Age:\", student.get_age())\n",
    "\n",
    "student.set_name(123)\n"
   ]
  },
  {
   "cell_type": "code",
   "execution_count": null,
   "id": "9b118622-a39e-48e3-9652-017718740cb2",
   "metadata": {},
   "outputs": [],
   "source": [
    "# Q5.What is method overriding in python? Write a python code to demonstrate method overriding."
   ]
  },
  {
   "cell_type": "code",
   "execution_count": 9,
   "id": "cd5d251a-f075-4698-b6d5-60f857a30a26",
   "metadata": {},
   "outputs": [
    {
     "name": "stdout",
     "output_type": "stream",
     "text": [
      "This is a generic animal.\n",
      "A dog barks.\n",
      "A cat meows.\n",
      "This is a generic animal.\n"
     ]
    }
   ],
   "source": [
    "\"\"\"\n",
    "Method overriding in Python occurs when a subclass provides a specific implementation of a method that is already defined in its superclass. \n",
    "The overridden method in the subclass has the same name and parameters as the method in the superclass.\n",
    "\"\"\"\n",
    "\n",
    "class Animal:\n",
    "    def speak(self):\n",
    "        print(\"This is a generic animal.\")\n",
    "\n",
    "class Dog(Animal):\n",
    "    def speak(self):\n",
    "        print(\"A dog barks.\")\n",
    "\n",
    "class Cat(Animal):\n",
    "    def speak(self):\n",
    "        print(\"A cat meows.\")\n",
    "\n",
    "class Cow(Animal):\n",
    "    pass \n",
    "\n",
    "animal = Animal()\n",
    "dog = Dog()\n",
    "cat = Cat()\n",
    "cow = Cow()\n",
    "\n",
    "animal.speak()  \n",
    "dog.speak()    \n",
    "cat.speak()    \n",
    "cow.speak()   \n"
   ]
  },
  {
   "cell_type": "code",
   "execution_count": null,
   "id": "f9e550bb-bd05-4a7f-9437-cfcfe36dd166",
   "metadata": {},
   "outputs": [],
   "source": []
  }
 ],
 "metadata": {
  "kernelspec": {
   "display_name": "Python 3 (ipykernel)",
   "language": "python",
   "name": "python3"
  },
  "language_info": {
   "codemirror_mode": {
    "name": "ipython",
    "version": 3
   },
   "file_extension": ".py",
   "mimetype": "text/x-python",
   "name": "python",
   "nbconvert_exporter": "python",
   "pygments_lexer": "ipython3",
   "version": "3.10.8"
  }
 },
 "nbformat": 4,
 "nbformat_minor": 5
}
