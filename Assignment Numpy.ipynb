{
 "cells": [
  {
   "cell_type": "code",
   "execution_count": 13,
   "id": "2a93adac-3a4e-4b17-b781-86c0a1c4aee2",
   "metadata": {},
   "outputs": [],
   "source": [
    "# Is there any difference in the data type of variables list_ and array_list? If there is then write a code\n",
    "# to print the data types of both the variables."
   ]
  },
  {
   "cell_type": "code",
   "execution_count": 14,
   "id": "11766f89-bb5c-4a84-8f57-9f2729ae4e2e",
   "metadata": {},
   "outputs": [
    {
     "name": "stdout",
     "output_type": "stream",
     "text": [
      "Data type of list_: <class 'list'> ['1', '2', '3', '4', '5']\n",
      "Data type of array_list: <class 'numpy.ndarray'> ['1' '2' '3' '4' '5']\n"
     ]
    }
   ],
   "source": [
    "\"\"\"\n",
    "Ans. Yes, there is a difference in the data type of the variables list_ and array_list. The variable list_ is a \n",
    "     Python list, and array_list is a NumPy array.\n",
    "\"\"\"\n",
    "import numpy as np\n",
    "\n",
    "list_ = ['1', '2', '3', '4', '5']\n",
    "array_list = np.array(object=list_)\n",
    "\n",
    "print(\"Data type of list_:\", type(list_), list_)\n",
    "print(\"Data type of array_list:\", type(array_list), array_list)\n"
   ]
  },
  {
   "cell_type": "code",
   "execution_count": 15,
   "id": "2b5bbb72-834b-4efc-8090-9065713e4fb7",
   "metadata": {},
   "outputs": [],
   "source": [
    "# Write a code to print the data type of each and every element of both the variables list_ and\n",
    "# arra_list."
   ]
  },
  {
   "cell_type": "code",
   "execution_count": 16,
   "id": "1d851756-ca47-4835-8466-932513b58af6",
   "metadata": {},
   "outputs": [
    {
     "name": "stdout",
     "output_type": "stream",
     "text": [
      "Data types in list_:\n",
      "<class 'str'>\n",
      "<class 'str'>\n",
      "<class 'str'>\n",
      "<class 'str'>\n",
      "<class 'str'>\n",
      "\n",
      "Data types in array_list:\n",
      "<class 'numpy.str_'>\n",
      "<class 'numpy.str_'>\n",
      "<class 'numpy.str_'>\n",
      "<class 'numpy.str_'>\n",
      "<class 'numpy.str_'>\n"
     ]
    }
   ],
   "source": [
    "import numpy as np\n",
    "\n",
    "list_ = ['1', '2', '3', '4', '5']\n",
    "array_list = np.array(object=list_)\n",
    "\n",
    "# Print data types of each element in the list\n",
    "print(\"Data types in list_:\")\n",
    "for element in list_:\n",
    "    print(type(element))\n",
    "\n",
    "# Print data types of each element in the NumPy array\n",
    "print(\"\\nData types in array_list:\")\n",
    "for element in array_list:\n",
    "    print(type(element))\n"
   ]
  },
  {
   "cell_type": "code",
   "execution_count": 17,
   "id": "c9d64f1f-6445-40e2-9965-4880e4466746",
   "metadata": {},
   "outputs": [],
   "source": [
    "# Considering the following changes in the variable, array_list:\n",
    "# array_list = np.array(object = list_, dtype = int)\n",
    "#Will there be any difference in the data type of the elements present in both the variables, list_ and\n",
    "#arra_list? If so then print the data types of each and every element present in both the variables, list_\n",
    "#and arra_list."
   ]
  },
  {
   "cell_type": "code",
   "execution_count": 18,
   "id": "14e46378-c7dd-4507-9c4a-d3f0c900a313",
   "metadata": {},
   "outputs": [
    {
     "name": "stdout",
     "output_type": "stream",
     "text": [
      "Data types in list_:\n",
      "<class 'str'>\n",
      "<class 'str'>\n",
      "<class 'str'>\n",
      "<class 'str'>\n",
      "<class 'str'>\n",
      "\n",
      "Data types in array_list:\n",
      "<class 'numpy.int64'>\n",
      "<class 'numpy.int64'>\n",
      "<class 'numpy.int64'>\n",
      "<class 'numpy.int64'>\n",
      "<class 'numpy.int64'>\n"
     ]
    }
   ],
   "source": [
    "import numpy as np\n",
    "\n",
    "list_ = ['1', '2', '3', '4', '5']\n",
    "array_list = np.array(object=list_, dtype=int)\n",
    "\n",
    "# Print data types of each element in the list\n",
    "print(\"Data types in list_:\")\n",
    "for element in list_:\n",
    "    print(type(element))\n",
    "\n",
    "# Print data types of each element in the NumPy array with dtype=int\n",
    "print(\"\\nData types in array_list:\")\n",
    "for element in array_list:\n",
    "    print(type(element))\n"
   ]
  },
  {
   "cell_type": "code",
   "execution_count": 19,
   "id": "73d2da6f-6ab3-46ab-b522-341916003d6a",
   "metadata": {},
   "outputs": [],
   "source": [
    "# Write a code to find the following characteristics of variable, num_array:\n",
    "#(i) shape\n",
    "#(ii) size"
   ]
  },
  {
   "cell_type": "code",
   "execution_count": 20,
   "id": "5cf5aa41-a920-47e3-8579-35c8faa0d882",
   "metadata": {},
   "outputs": [
    {
     "name": "stdout",
     "output_type": "stream",
     "text": [
      "(i) Shape of num_array: (2, 3)\n",
      "(ii) Size of num_array: 6\n"
     ]
    }
   ],
   "source": [
    "import numpy as np\n",
    "\n",
    "num_list = [[1, 2, 3], [4, 5, 6]]\n",
    "num_array = np.array(object=num_list)\n",
    "\n",
    "# (i) Find the shape of num_array\n",
    "shape_of_array = num_array.shape\n",
    "print(\"(i) Shape of num_array:\", shape_of_array)\n",
    "\n",
    "# (ii) Find the size of num_array\n",
    "size_of_array = num_array.size\n",
    "print(\"(ii) Size of num_array:\", size_of_array)"
   ]
  },
  {
   "cell_type": "code",
   "execution_count": 21,
   "id": "f6ffd0e9-2143-4ad7-b4a8-258b27fb0cca",
   "metadata": {},
   "outputs": [],
   "source": [
    "# Write a code to create numpy array of 3*3 matrix containing zeros only, using a numpy array\n",
    "#creation function.\n",
    "#[Hint: The size of the array will be 9 and the shape will be (3,3).]"
   ]
  },
  {
   "cell_type": "code",
   "execution_count": 22,
   "id": "dca816ae-2fb3-4bc6-9f76-531bdbcfd236",
   "metadata": {},
   "outputs": [
    {
     "name": "stdout",
     "output_type": "stream",
     "text": [
      "Array of zeros:\n",
      "[[0. 0. 0.]\n",
      " [0. 0. 0.]\n",
      " [0. 0. 0.]]\n"
     ]
    }
   ],
   "source": [
    "import numpy as np\n",
    "\n",
    "zeros_array = np.zeros((3, 3))\n",
    "\n",
    "print(\"Array of zeros:\")\n",
    "print(zeros_array)\n"
   ]
  },
  {
   "cell_type": "code",
   "execution_count": 23,
   "id": "26a4f4c1-bb1a-4b0a-a12e-45a1ec93869c",
   "metadata": {},
   "outputs": [],
   "source": [
    "# Create an identity matrix of shape (5,5) using numpy functions?"
   ]
  },
  {
   "cell_type": "code",
   "execution_count": 24,
   "id": "3aef3f92-4a02-4abd-951a-f684f3a81e95",
   "metadata": {},
   "outputs": [
    {
     "name": "stdout",
     "output_type": "stream",
     "text": [
      "Identity Matrix:\n",
      "[[1. 0. 0. 0. 0.]\n",
      " [0. 1. 0. 0. 0.]\n",
      " [0. 0. 1. 0. 0.]\n",
      " [0. 0. 0. 1. 0.]\n",
      " [0. 0. 0. 0. 1.]]\n"
     ]
    }
   ],
   "source": [
    "import numpy as np\n",
    "\n",
    "# Create a 5x5 identity matrix\n",
    "identity_matrix = np.identity(5)\n",
    "\n",
    "print(\"Identity Matrix:\")\n",
    "print(identity_matrix)\n"
   ]
  }
 ],
 "metadata": {
  "kernelspec": {
   "display_name": "Python 3 (ipykernel)",
   "language": "python",
   "name": "python3"
  },
  "language_info": {
   "codemirror_mode": {
    "name": "ipython",
    "version": 3
   },
   "file_extension": ".py",
   "mimetype": "text/x-python",
   "name": "python",
   "nbconvert_exporter": "python",
   "pygments_lexer": "ipython3",
   "version": "3.10.8"
  }
 },
 "nbformat": 4,
 "nbformat_minor": 5
}
