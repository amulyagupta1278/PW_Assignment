{
 "cells": [
  {
   "cell_type": "code",
   "execution_count": 1,
   "id": "8bfcc1bd-6b14-4f67-b713-e41fdd19678d",
   "metadata": {},
   "outputs": [],
   "source": [
    "# Q1. What is an Exception in python? Write the difference between Exceptions nd syntax errors?"
   ]
  },
  {
   "cell_type": "code",
   "execution_count": 1,
   "id": "d066a11a-7bb9-480d-92c9-a2e108dee647",
   "metadata": {},
   "outputs": [
    {
     "data": {
      "text/plain": [
       "\"\\nAns: An exception is an event that occurs during the execution of a program that disrupts the normal flow of the program's instructions. When an exception occurs,\\n     it typically results in the termination of the program unless it's handled by appropriate exception-handling code.\\n     \\n     1) Exceptions: Exceptions are runtime errors that occur when a program is executing. Exceptions can be caught and handled using try and except blocks.Examples of exceptions\\n        include ZeroDivisionError, IndexError, ValueError, and FileNotFoundError.\\n     2) Syntax Error: Syntax errors are not exceptions but rather a type of error that occurs during the parsing or compilation of the Python code, before it is executed.They occur \\n        when the code does not conform to the syntactical rules of the Python language. Common examples include missing colons, mismatched parentheses, and invalid variable names.\\n\\n\""
      ]
     },
     "execution_count": 1,
     "metadata": {},
     "output_type": "execute_result"
    }
   ],
   "source": [
    "\"\"\"\n",
    "Ans: An exception is an event that occurs during the execution of a program that disrupts the normal flow of the program's instructions. When an exception occurs,\n",
    "     it typically results in the termination of the program unless it's handled by appropriate exception-handling code.\n",
    "     \n",
    "     1) Exceptions: Exceptions are runtime errors that occur when a program is executing. Exceptions can be caught and handled using try and except blocks.Examples of exceptions\n",
    "        include ZeroDivisionError, IndexError, ValueError, and FileNotFoundError.\n",
    "     2) Syntax Error: Syntax errors are not exceptions but rather a type of error that occurs during the parsing or compilation of the Python code, before it is executed.They occur \n",
    "        when the code does not conform to the syntactical rules of the Python language. Common examples include missing colons, mismatched parentheses, and invalid variable names.\n",
    "\n",
    "\"\"\""
   ]
  },
  {
   "cell_type": "code",
   "execution_count": 2,
   "id": "d39ac6f6-e169-49cc-800d-26b96185c85b",
   "metadata": {},
   "outputs": [],
   "source": [
    "# Q2. What happens when an exception is not handled? Explain with an example"
   ]
  },
  {
   "cell_type": "code",
   "execution_count": 3,
   "id": "9c73ea45-9c60-483a-abf6-817f6596223c",
   "metadata": {},
   "outputs": [
    {
     "name": "stdout",
     "output_type": "stream",
     "text": [
      "An exception occurred: division by zero\n"
     ]
    }
   ],
   "source": [
    "\"\"\"\n",
    "Ans: When an exception is not handled in a Python program, it leads to the program terminating with an error message. This is because unhandled exceptions propagate up the\n",
    "     call stack until they reach the top level of the program, and if no appropriate exception handling is found along the way, the program will terminate. Here's an example:\n",
    "\"\"\"\n",
    "def divide(x, y):\n",
    "    result = x / y\n",
    "    return result\n",
    "\n",
    "try:\n",
    "    result = divide(10, 0)\n",
    "    print(\"Result:\", result)\n",
    "except Exception as e:\n",
    "    print(\"An exception occurred:\", e)\n",
    "\n"
   ]
  },
  {
   "cell_type": "code",
   "execution_count": 4,
   "id": "7c800ffd-2c32-4782-bc6d-ebe53ea34af3",
   "metadata": {},
   "outputs": [],
   "source": [
    "# Q3, Which Python statements are used to catch and handle exceptions? Explain with an example"
   ]
  },
  {
   "cell_type": "code",
   "execution_count": 5,
   "id": "7244194d-1d0f-4668-9242-b96a2c86e066",
   "metadata": {},
   "outputs": [
    {
     "name": "stdout",
     "output_type": "stream",
     "text": [
      "Error: Division by zero\n"
     ]
    }
   ],
   "source": [
    "\"\"\"\n",
    "Ans: The try block contains the code that might raise an exception, and the except block specifies how to handle the exception if it occurs. \n",
    "Here's an example\n",
    "\"\"\"\n",
    "try:\n",
    "    x = 10\n",
    "    y = 0\n",
    "    result = x / y  \n",
    "    print(\"Result:\", result)\n",
    "except ZeroDivisionError:\n",
    "    print(\"Error: Division by zero\")\n",
    "except Exception as e:\n",
    "    print(f\"An unexpected error occurred: {e}\")\n"
   ]
  },
  {
   "cell_type": "code",
   "execution_count": 6,
   "id": "368340ed-27ce-4e0f-9bac-a96f6dace71c",
   "metadata": {},
   "outputs": [],
   "source": [
    "# Q4.Explain with an example: \n",
    "     # try and else  \n",
    "     # finally \n",
    "     # raise"
   ]
  },
  {
   "cell_type": "code",
   "execution_count": 7,
   "id": "92f51b1e-f81f-4e72-a8ce-6f290f981697",
   "metadata": {},
   "outputs": [
    {
     "name": "stdout",
     "output_type": "stream",
     "text": [
      "Division was successful.\n",
      "Finally block executed, performing cleanup operations.\n",
      "Result: 5.0\n",
      "Error: Division by zero\n",
      "Finally block executed, performing cleanup operations.\n",
      "Result: None\n"
     ]
    }
   ],
   "source": [
    "\"\"\"\n",
    "Ans: 1) try and else: The try block is used to enclose code that might raise an exception. If no exception occurs in the try block, the code in the else block is executed.\n",
    "        The else block is optional.\n",
    "\n",
    "     2) finally: The finally block is used to enclose code that will always be executed, whether or not an exception is raised in the try block. It is typically used for \n",
    "        cleanup operations.\n",
    "\n",
    "     3) raise: The raise statement is used to explicitly raise an exception within your code.\n",
    "\"\"\"\n",
    "\n",
    "def divide(x, y):\n",
    "    try:\n",
    "        result = x / y\n",
    "    except ZeroDivisionError:\n",
    "        print(\"Error: Division by zero\")\n",
    "        result = None\n",
    "    else:\n",
    "        print(\"Division was successful.\")\n",
    "    finally:\n",
    "        print(\"Finally block executed, performing cleanup operations.\")\n",
    "    return result\n",
    "\n",
    "try:\n",
    "    result = divide(10, 2)\n",
    "    print(\"Result:\", result)\n",
    "except Exception as e:\n",
    "    print(f\"An unexpected error occurred: {e}\")\n",
    "\n",
    "try:\n",
    "    result = divide(10, 0)\n",
    "    print(\"Result:\", result)\n",
    "except Exception as e:\n",
    "    print(f\"An unexpected error occurred: {e}\")\n"
   ]
  },
  {
   "cell_type": "code",
   "execution_count": 8,
   "id": "eb5c8be4-41ad-47d6-96d6-a31c8ef02af2",
   "metadata": {},
   "outputs": [],
   "source": [
    "# Q5 What are Custom Exceptions in python? Why do we need Custom Exceptions? Explain with an example"
   ]
  },
  {
   "cell_type": "code",
   "execution_count": 9,
   "id": "02b55410-3f2b-4415-a79d-95f9769f0850",
   "metadata": {},
   "outputs": [
    {
     "name": "stdout",
     "output_type": "stream",
     "text": [
      "Custom Error Occurred: Division by zero is not allowed\n"
     ]
    }
   ],
   "source": [
    "\"\"\"\n",
    "Ans: You can create custom exceptions to handle specific error scenarios that are not adequately addressed by the built-in exception classes. Custom exceptions \n",
    "     are derived from the base Exception class or its subclasses, allowing you to define your own exception types and raise them in your code.\n",
    "\n",
    "\"\"\"\n",
    "class CustomError(Exception):\n",
    "    def __init__(self, message):\n",
    "        super().__init__(message)\n",
    "\n",
    "def divide(x, y):\n",
    "    if y == 0:\n",
    "        raise CustomError(\"Division by zero is not allowed\")\n",
    "    result = x / y\n",
    "    return result\n",
    "\n",
    "try:\n",
    "    result = divide(10, 0)\n",
    "    print(\"Result:\", result)\n",
    "except CustomError as e:\n",
    "    print(f\"Custom Error Occurred: {e}\")\n",
    "except Exception as e:\n",
    "    print(f\"An unexpected error occurred: {e}\")\n"
   ]
  },
  {
   "cell_type": "code",
   "execution_count": 10,
   "id": "a2e6e0e7-661c-46c7-bdae-8d4e9003a7bc",
   "metadata": {},
   "outputs": [],
   "source": [
    "# Q6. Create a custom exception class. Use this class to handle an exception."
   ]
  },
  {
   "cell_type": "code",
   "execution_count": null,
   "id": "14c10b78-f45a-404c-b2a5-ddd840a0903b",
   "metadata": {},
   "outputs": [],
   "source": [
    "\"\"\"\n",
    "Ans: I'll create a custom exception class called ValueTooLargeError to handle the scenario when a value exceeds a certain limit.\n",
    "\"\"\"\n",
    "class ValueTooLargeError(Exception):\n",
    "    def __init__(self, value, limit):\n",
    "        super().__init__(f\"Value {value} is too large. It should not exceed {limit}.\")\n",
    "\n",
    "def process_value(value, limit):\n",
    "    if value > limit:\n",
    "        raise ValueTooLargeError(value, limit)\n",
    "    return value\n",
    "\n",
    "try:\n",
    "    value = process_value(42, 30) \n",
    "    print(\"Processed value:\", value)\n",
    "except ValueTooLargeError as e:\n",
    "    print(f\"Custom Error Occurred: {e}\")\n",
    "except Exception as e:\n",
    "    print(f\"An unexpected error occurred: {e}\")\n"
   ]
  }
 ],
 "metadata": {
  "kernelspec": {
   "display_name": "Python 3 (ipykernel)",
   "language": "python",
   "name": "python3"
  },
  "language_info": {
   "codemirror_mode": {
    "name": "ipython",
    "version": 3
   },
   "file_extension": ".py",
   "mimetype": "text/x-python",
   "name": "python",
   "nbconvert_exporter": "python",
   "pygments_lexer": "ipython3",
   "version": "3.10.8"
  }
 },
 "nbformat": 4,
 "nbformat_minor": 5
}
