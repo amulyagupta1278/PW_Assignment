{
 "cells": [
  {
   "cell_type": "code",
   "execution_count": 6,
   "id": "f6130325-29c9-471d-be49-c7867bf8a8d6",
   "metadata": {},
   "outputs": [
    {
     "data": {
      "text/plain": [
       "'This\\n  is\\n  a example \\n  of \\n  multi line code\\n  '"
      ]
     },
     "execution_count": 6,
     "metadata": {},
     "output_type": "execute_result"
    }
   ],
   "source": [
    "\"Question 1\"\n",
    "\"We can comment code by adding # sign for a single line comment code\"\n",
    "# This is an example of single line comment\n",
    "\"We use ''' ''' aign for a multi line comment code\"\n",
    "\"\"\"This\n",
    "  is\n",
    "  a example \n",
    "  of \n",
    "  multi line code\n",
    "  \"\"\""
   ]
  },
  {
   "cell_type": "code",
   "execution_count": 8,
   "id": "cc72f088-7c9a-4ec5-8cfd-c176fd57b718",
   "metadata": {},
   "outputs": [],
   "source": [
    "\"Question 2\"\n",
    "\"\"\"\n",
    "Variables are the reserved memory locations used to store values with in a Python Program\n",
    "This means that when you create a variable you reserve some space in the memory. Based on the data\n",
    "type of a variable, Python interpreter allocates memory and decides what can be stored in the reserved\n",
    "memory.\n",
    "\"\"\"\n",
    "\n",
    "# Example: \n",
    "var_1 = 1 # here we have assigned a reserved memeory location called var_1 where we can store any values such as 1 "
   ]
  },
  {
   "cell_type": "code",
   "execution_count": 9,
   "id": "71d18033-354c-440f-8745-95af49c86573",
   "metadata": {},
   "outputs": [
    {
     "name": "stdout",
     "output_type": "stream",
     "text": [
      "<class 'int'> <class 'str'> 1243\n"
     ]
    }
   ],
   "source": [
    "\"Question 3\"\n",
    "\n",
    "\"\"\"\n",
    "Python defines type conversion functions like int(), float(), str()\n",
    "to directly convert one data type into another. This type of conversion\n",
    "is also called typecasting because the user casts (change) the data type of the objects.\n",
    "\"\"\"\n",
    "var_1 = 1243\n",
    "var_2 = str(var_1)\n",
    "print(type(var_1), type(var_2), var_2)\n",
    "# So, We have typecased the int variable into a string"
   ]
  },
  {
   "cell_type": "code",
   "execution_count": null,
   "id": "6afffa42-2ea8-4cb4-aeec-ab1bec538c01",
   "metadata": {},
   "outputs": [],
   "source": [
    "\"Question 4\"\n",
    "\"\"\" We make sure python is installed in our PC and then we have to type Python in the CLI \n",
    "which will open a small CLI for python where you can run pytohn code \"\"\""
   ]
  },
  {
   "cell_type": "code",
   "execution_count": 11,
   "id": "8f5b18ad-9018-4ed2-a1fd-a4d920d61706",
   "metadata": {},
   "outputs": [
    {
     "name": "stdout",
     "output_type": "stream",
     "text": [
      "[2, 3]\n"
     ]
    }
   ],
   "source": [
    "\"Question 5\"\n",
    "my_list = [1,2,3,4,5]\n",
    "#          0,1,2,3,4  \n",
    "print(my_list[1:3])"
   ]
  },
  {
   "cell_type": "code",
   "execution_count": 12,
   "id": "dbe153a2-27e9-41f1-8899-9b060c79efae",
   "metadata": {},
   "outputs": [
    {
     "data": {
      "text/plain": [
       "'Question 6'"
      ]
     },
     "execution_count": 12,
     "metadata": {},
     "output_type": "execute_result"
    }
   ],
   "source": [
    "\"Question 6\"\n",
    "\"\"\" Python can also handle complex numbers and its associated functions using\n",
    "the file “cmath”. Complex numbers have their uses in many applications related\n",
    "to mathematics and python provides useful tools to handle and manipulate them. \n",
    "Converting real numbers to complex number An complex number is represented by “ x + yi “. \"\"\"\n"
   ]
  },
  {
   "cell_type": "code",
   "execution_count": 13,
   "id": "bb590b56-d58f-4c58-b0ef-e1aebd26c2ab",
   "metadata": {},
   "outputs": [],
   "source": [
    "\"Question 7\"\n",
    "\"\"\"first you have to declare a veriable called age which is statically typed and then add = finally \n",
    "assign it a value say 25\n",
    "\"\"\"\n",
    "age = 25\n"
   ]
  },
  {
   "cell_type": "code",
   "execution_count": 14,
   "id": "c972c7c3-22c4-4298-8f53-77eb0a9d327d",
   "metadata": {},
   "outputs": [
    {
     "name": "stdout",
     "output_type": "stream",
     "text": [
      "<class 'float'>\n"
     ]
    }
   ],
   "source": [
    "\"Question 8\"\n",
    "price = 9.99\n",
    "print(type(price)) # float"
   ]
  },
  {
   "cell_type": "code",
   "execution_count": 20,
   "id": "edf208c3-dcd0-49ca-bef0-0edb540d0015",
   "metadata": {},
   "outputs": [
    {
     "name": "stdout",
     "output_type": "stream",
     "text": [
      "Amulya Gupta\n"
     ]
    }
   ],
   "source": [
    "\"Question 9\"\n",
    "name = \"Amulya Gupta\"\n",
    "print(name)"
   ]
  },
  {
   "cell_type": "code",
   "execution_count": 18,
   "id": "ce1b8fe3-c9ec-4b8d-b3eb-4b8a05116aee",
   "metadata": {},
   "outputs": [
    {
     "name": "stdout",
     "output_type": "stream",
     "text": [
      "World\n"
     ]
    }
   ],
   "source": [
    "\"Question 10\"\n",
    "given = \"Hello, World!\"\n",
    "#        0,1,2,3,4,5,6,7,8,9,10,11,12\n",
    "# -12,-11,-10,-9 ,-8,-7,-6, -5,-4,-3,-2,-1,0\n",
    "substr = given[-6:-1:]\n",
    "print(substr)\n"
   ]
  },
  {
   "cell_type": "code",
   "execution_count": 19,
   "id": "2749e830-3250-4ae1-948d-5259c25c76d7",
   "metadata": {},
   "outputs": [
    {
     "name": "stdout",
     "output_type": "stream",
     "text": [
      "True\n"
     ]
    }
   ],
   "source": [
    "\"Question 11\"\n",
    "is_Student = True\n",
    "print(is_Student)"
   ]
  },
  {
   "cell_type": "code",
   "execution_count": null,
   "id": "e919ad7d-6224-4db2-96e6-710fb48b9da6",
   "metadata": {},
   "outputs": [],
   "source": []
  }
 ],
 "metadata": {
  "kernelspec": {
   "display_name": "Python 3 (ipykernel)",
   "language": "python",
   "name": "python3"
  },
  "language_info": {
   "codemirror_mode": {
    "name": "ipython",
    "version": 3
   },
   "file_extension": ".py",
   "mimetype": "text/x-python",
   "name": "python",
   "nbconvert_exporter": "python",
   "pygments_lexer": "ipython3",
   "version": "3.10.8"
  }
 },
 "nbformat": 4,
 "nbformat_minor": 5
}
