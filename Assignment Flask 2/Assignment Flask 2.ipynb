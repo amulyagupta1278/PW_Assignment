{
 "cells": [
  {
   "cell_type": "code",
   "execution_count": 1,
   "id": "7972e0b9-b481-4b03-b55e-039d819be16a",
   "metadata": {},
   "outputs": [],
   "source": [
    "# Explain GET and POST methods."
   ]
  },
  {
   "cell_type": "code",
   "execution_count": 14,
   "id": "7a1f6d9e-8b50-4e22-ae31-18423cb0430e",
   "metadata": {},
   "outputs": [
    {
     "data": {
      "text/plain": [
       "\"\\nAns. HTTP (Hypertext Transfer Protocol) defines various methods that dictate the type of operation to be performed for a \\n     given resource. Two fundamental methods are GET and POST.\\n     \\n     GET Method:\\n     The GET method is used to request data from a specified resource. GET requests are commonly used for retrieving \\n     information, and they are suitable for operations that do not modify the server's state.\\n     \\n     POST method:\\n     The POST method is used to submit data to be processed to a specified resource. Unlike GET requests, POST requests send \\n     data in the request body rather than in the URL, making them more suitable for handling sensitive information or large\\n     amounts of data. \\n\""
      ]
     },
     "execution_count": 14,
     "metadata": {},
     "output_type": "execute_result"
    }
   ],
   "source": [
    "\"\"\"\n",
    "Ans. HTTP (Hypertext Transfer Protocol) defines various methods that dictate the type of operation to be performed for a \n",
    "     given resource. Two fundamental methods are GET and POST.\n",
    "     \n",
    "     GET Method:\n",
    "     The GET method is used to request data from a specified resource. GET requests are commonly used for retrieving \n",
    "     information, and they are suitable for operations that do not modify the server's state.\n",
    "     \n",
    "     POST method:\n",
    "     The POST method is used to submit data to be processed to a specified resource. Unlike GET requests, POST requests send \n",
    "     data in the request body rather than in the URL, making them more suitable for handling sensitive information or large\n",
    "     amounts of data. \n",
    "\"\"\""
   ]
  },
  {
   "cell_type": "code",
   "execution_count": 4,
   "id": "d279b8fe-6650-4f1a-b0e9-c73f8a91173b",
   "metadata": {},
   "outputs": [],
   "source": [
    "# Why is request used in Flask?"
   ]
  },
  {
   "cell_type": "code",
   "execution_count": 15,
   "id": "1fce22a4-6246-4ee6-8547-eabb2739b9ee",
   "metadata": {},
   "outputs": [
    {
     "data": {
      "text/plain": [
       "'\\nAns.  The request object is used to access incoming request data in the context of a web application. It provides information\\n      about the current HTTP request, including data from forms, query parameters, cookies, and more.\\n      \\n      Some common use for:\\n      1) Handeling Query parameter\\n      2) Accessing Request Headers\\n      3) Handling file uploads\\n      \\n'"
      ]
     },
     "execution_count": 15,
     "metadata": {},
     "output_type": "execute_result"
    }
   ],
   "source": [
    "\"\"\"\n",
    "Ans.  The request object is used to access incoming request data in the context of a web application. It provides information\n",
    "      about the current HTTP request, including data from forms, query parameters, cookies, and more.\n",
    "      \n",
    "      Some common use for:\n",
    "      1) Handeling Query parameter\n",
    "      2) Accessing Request Headers\n",
    "      3) Handling file uploads\n",
    "      \n",
    "\"\"\""
   ]
  },
  {
   "cell_type": "code",
   "execution_count": 7,
   "id": "8e925019-995b-4464-92de-801b20dc5602",
   "metadata": {},
   "outputs": [],
   "source": [
    "# Why is redirect() used in Flask?"
   ]
  },
  {
   "cell_type": "code",
   "execution_count": 16,
   "id": "b44e796d-2748-4549-8eb5-3a3160a8567d",
   "metadata": {},
   "outputs": [
    {
     "data": {
      "text/plain": [
       "\"\\nAns. The redirect() function is used to perform a URL redirection, sending the client's browser to a different URL. It is\\n     particularly useful when you want to redirect users to another route or an external URL after processing a request\\n     \\n\""
      ]
     },
     "execution_count": 16,
     "metadata": {},
     "output_type": "execute_result"
    }
   ],
   "source": [
    "\"\"\"\n",
    "Ans. The redirect() function is used to perform a URL redirection, sending the client's browser to a different URL. It is\n",
    "     particularly useful when you want to redirect users to another route or an external URL after processing a request\n",
    "     \n",
    "     We can use redirect() function:\n",
    "     1) Changing URL Structure\n",
    "     2) Conditional Redirects\n",
    "\"\"\""
   ]
  },
  {
   "cell_type": "code",
   "execution_count": 9,
   "id": "baba3891-ad5b-42d3-8048-b8e952990e42",
   "metadata": {},
   "outputs": [],
   "source": [
    "# What are templates in Flask? Why is the render_template() function used?"
   ]
  },
  {
   "cell_type": "code",
   "execution_count": 11,
   "id": "a2129ab6-6dc4-469f-9354-3c314b008bf5",
   "metadata": {},
   "outputs": [
    {
     "data": {
      "text/plain": [
       "'\\nAns.\\n'"
      ]
     },
     "execution_count": 11,
     "metadata": {},
     "output_type": "execute_result"
    }
   ],
   "source": [
    "\"\"\"\n",
    "Ans. Flask templates are used to separate the presentation logic (HTML markup) from the application logic in Python. \n",
    "     Templates allow developers to create dynamic web pages by embedding placeholders (variables) and control structures \n",
    "     in HTML files. \n",
    "     \n",
    "     render_template() fuction is used to render these templates and generate HTML content dynamically.\n",
    "\"\"\""
   ]
  },
  {
   "cell_type": "code",
   "execution_count": 12,
   "id": "79c1ddce-9b77-458a-b1bb-2cb1f706a923",
   "metadata": {},
   "outputs": [],
   "source": [
    "# Create a simple API. Use Postman to test it. Attach the screenshot of the output in the Jupyter Notebook."
   ]
  },
  {
   "cell_type": "code",
   "execution_count": 1,
   "id": "13e16c59-1fd2-485a-a8b7-52d91b122198",
   "metadata": {},
   "outputs": [
    {
     "data": {
      "text/plain": [
       "'\\nfrom flask import Flask\\n\\napp = Flask(__name__)\\n\\n@app.route(\\'/\\', methods = [\\'GET\\'])\\ndef company_details():\\n    x= \"This is the answer of the Assignment\"\\n    return x\\n\\n@app.route(\\'/welcome\\')\\ndef welcome():\\n    return \\'<h1>Welcome to ABC Corporation</h1>\\'\\n\\nif __name__==\"__main__\":\\n    app.run(host=\"0.0.0.0\")\\n'"
      ]
     },
     "execution_count": 1,
     "metadata": {},
     "output_type": "execute_result"
    }
   ],
   "source": [
    "\"\"\"\n",
    "from flask import Flask\n",
    "\n",
    "app = Flask(__name__)\n",
    "\n",
    "@app.route('/', methods = ['GET'])\n",
    "def company_details():\n",
    "    x= \"This is the answer of the Assignment\"\n",
    "    return x\n",
    "\n",
    "@app.route('/welcome')\n",
    "def welcome():\n",
    "    return '<h1>Welcome to ABC Corporation</h1>'\n",
    "\n",
    "if __name__==\"__main__\":\n",
    "    app.run(host=\"0.0.0.0\")\n",
    "\"\"\""
   ]
  },
  {
   "cell_type": "code",
   "execution_count": null,
   "id": "82da3fae-9881-45c1-8422-a6970b4763a6",
   "metadata": {},
   "outputs": [],
   "source": []
  }
 ],
 "metadata": {
  "kernelspec": {
   "display_name": "Python 3 (ipykernel)",
   "language": "python",
   "name": "python3"
  },
  "language_info": {
   "codemirror_mode": {
    "name": "ipython",
    "version": 3
   },
   "file_extension": ".py",
   "mimetype": "text/x-python",
   "name": "python",
   "nbconvert_exporter": "python",
   "pygments_lexer": "ipython3",
   "version": "3.10.8"
  }
 },
 "nbformat": 4,
 "nbformat_minor": 5
}
