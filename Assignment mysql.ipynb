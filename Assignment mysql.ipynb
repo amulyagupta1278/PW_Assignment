{
 "cells": [
  {
   "cell_type": "code",
   "execution_count": 3,
   "id": "cd0b622e-120f-45f6-b9e2-fbaf97a7e4be",
   "metadata": {},
   "outputs": [],
   "source": [
    "# What is a database? Differentiate between SQL and NoSQL databases."
   ]
  },
  {
   "cell_type": "code",
   "execution_count": 4,
   "id": "68519c4f-3478-41f0-a340-ebee5a7a508c",
   "metadata": {},
   "outputs": [
    {
     "data": {
      "text/plain": [
       "'\\nAns. A database is a structured collection of data that is organized in a way that allows for efficient storage,\\n     retrieval, and manipulation of data.\\n     \\n     SQL: SQL databases are relational databases, meaning they use a structured and tabular format to organize data.\\n          Data is organized into tables with predefined schemas, where each table represents an entity, and each column \\n          represents a specific attribute of that entity.\\n          \\n    NoSQL: NoSQL databases have a more flexible data model and can handle unstructured, semi-structured, or structured data.\\n           They can use various data models, such as document-oriented, key-value pairs, wide-column stores, or graph\\n           databases.\\n'"
      ]
     },
     "execution_count": 4,
     "metadata": {},
     "output_type": "execute_result"
    }
   ],
   "source": [
    "\"\"\"\n",
    "Ans. A database is a structured collection of data that is organized in a way that allows for efficient storage,\n",
    "     retrieval, and manipulation of data.\n",
    "     \n",
    "     SQL: SQL databases are relational databases, meaning they use a structured and tabular format to organize data.\n",
    "          Data is organized into tables with predefined schemas, where each table represents an entity, and each column \n",
    "          represents a specific attribute of that entity.\n",
    "          \n",
    "    NoSQL: NoSQL databases have a more flexible data model and can handle unstructured, semi-structured, or structured data.\n",
    "           They can use various data models, such as document-oriented, key-value pairs, wide-column stores, or graph\n",
    "           databases.\n",
    "\"\"\""
   ]
  },
  {
   "cell_type": "code",
   "execution_count": 5,
   "id": "6e4d6534-0951-4800-b09a-082419638e49",
   "metadata": {},
   "outputs": [],
   "source": [
    "# What is DDL? Explain why CREATE, DROP, ALTER, and TRUNCATE are used with an example."
   ]
  },
  {
   "cell_type": "code",
   "execution_count": 6,
   "id": "7dc7f38e-e3d7-429f-ab01-196a04a90056",
   "metadata": {},
   "outputs": [
    {
     "data": {
      "text/plain": [
       "'\\nAns. DDL stands for Data Definition Language, and it is a subset of SQL (Structured Query Language) used for defining\\n     and managing the structure of a database. DDL statements are responsible for defining and managing the structure\\n     that holds the data, including tables, indexes, and constraints.\\n     \\n     CREATE: statement is used to create database objects, such as tables, indexes, or views\\n     \\n         CREATE TABLE employees (\\n            employee_id INT PRIMARY KEY,\\n            employee_name VARCHAR(50),\\n            salary DECIMAL(10, 2) );\\n\\n    DROP: statement is used to delete database objects, such as tables, indexes, or views\\n    \\n        DROP TABLE employees;\\n        \\n    ALTER: statement is used to modify the structure of existing database objects, like adding or dropping columns.\\n    \\n        ALTER TABLE employees\\n            ADD COLUMN department VARCHAR(50);\\n    \\n    TRUNCATE: statement is used to remove all rows from a table while retaining the table structure.\\n    \\n        TRUNCATE TABLE employees;\\n'"
      ]
     },
     "execution_count": 6,
     "metadata": {},
     "output_type": "execute_result"
    }
   ],
   "source": [
    "\"\"\"\n",
    "Ans. DDL stands for Data Definition Language, and it is a subset of SQL (Structured Query Language) used for defining\n",
    "     and managing the structure of a database. DDL statements are responsible for defining and managing the structure\n",
    "     that holds the data, including tables, indexes, and constraints.\n",
    "     \n",
    "     CREATE: statement is used to create database objects, such as tables, indexes, or views\n",
    "     \n",
    "         CREATE TABLE employees (\n",
    "            employee_id INT PRIMARY KEY,\n",
    "            employee_name VARCHAR(50),\n",
    "            salary DECIMAL(10, 2) );\n",
    "\n",
    "    DROP: statement is used to delete database objects, such as tables, indexes, or views\n",
    "    \n",
    "        DROP TABLE employees;\n",
    "        \n",
    "    ALTER: statement is used to modify the structure of existing database objects, like adding or dropping columns.\n",
    "    \n",
    "        ALTER TABLE employees\n",
    "            ADD COLUMN department VARCHAR(50);\n",
    "    \n",
    "    TRUNCATE: statement is used to remove all rows from a table while retaining the table structure.\n",
    "    \n",
    "        TRUNCATE TABLE employees;\n",
    "\"\"\""
   ]
  },
  {
   "cell_type": "code",
   "execution_count": 7,
   "id": "aa6ea673-3caf-43a8-bf05-923038bee5d4",
   "metadata": {},
   "outputs": [],
   "source": [
    "# What is DML? Explain INSERT, UPDATE, and DELETE with an example."
   ]
  },
  {
   "cell_type": "code",
   "execution_count": 8,
   "id": "fbddce50-ac26-4784-9818-aa4a6fd331ba",
   "metadata": {},
   "outputs": [
    {
     "data": {
      "text/plain": [
       "'\\nAns. DML stands for Data Manipulation Language, and it is a subset of SQL (Structured Query Language) used for manipulation\\n     and managing data within a database. DML statements allow users to insert, update, and delete data in the database.\\n     \\n     INSERT: statement is used to insert/ add new records(rows) to a table\\n     \\n     INSERT into employees(empId, empName, salary) VALUES (001, Amulya, 10000000)\\n     \\n     UPDATE: statement is used to update/ modify existing records(rows) in a table\\n     \\n     UPDATE employees\\n         SET salary = 5000000\\n         WHERE empId = 001\\n    DELETE: statement is used to delete/ remove records(rows) to a table\\n    \\n    DELETE employees\\n        WHERE empId = 001\\n     \\n'"
      ]
     },
     "execution_count": 8,
     "metadata": {},
     "output_type": "execute_result"
    }
   ],
   "source": [
    "\"\"\"\n",
    "Ans. DML stands for Data Manipulation Language, and it is a subset of SQL (Structured Query Language) used for manipulation\n",
    "     and managing data within a database. DML statements allow users to insert, update, and delete data in the database.\n",
    "     \n",
    "     INSERT: statement is used to insert/ add new records(rows) to a table\n",
    "     \n",
    "     INSERT into employees(empId, empName, salary) VALUES (001, Amulya, 10000000)\n",
    "     \n",
    "     UPDATE: statement is used to update/ modify existing records(rows) in a table\n",
    "     \n",
    "     UPDATE employees\n",
    "         SET salary = 5000000\n",
    "         WHERE empId = 001\n",
    "    DELETE: statement is used to delete/ remove records(rows) to a table\n",
    "    \n",
    "    DELETE employees\n",
    "        WHERE empId = 001\n",
    "     \n",
    "\"\"\""
   ]
  },
  {
   "cell_type": "code",
   "execution_count": 9,
   "id": "9e7be3f2-3315-49bd-bb14-f0fd40add2ae",
   "metadata": {},
   "outputs": [],
   "source": [
    "# What is DQL? Explain SELECT with an example."
   ]
  },
  {
   "cell_type": "code",
   "execution_count": 1,
   "id": "8f2ec05a-e1b5-40ce-bcb5-37a1f9025d1e",
   "metadata": {},
   "outputs": [
    {
     "data": {
      "text/plain": [
       "'\\nAns. DQL stands for Data Query Language, and it is a subset of SQL (Structured Query Language) specifically focused \\n     on querying or retrieving data from a database\\n     \\n     SELECT: Statement is used for retrieving data from a database \\n'"
      ]
     },
     "execution_count": 1,
     "metadata": {},
     "output_type": "execute_result"
    }
   ],
   "source": [
    "\"\"\"\n",
    "Ans. DQL stands for Data Query Language, and it is a subset of SQL (Structured Query Language) specifically focused \n",
    "     on querying or retrieving data from a database\n",
    "     \n",
    "     SELECT: Statement is used for retrieving data from a database \n",
    "\"\"\""
   ]
  },
  {
   "cell_type": "code",
   "execution_count": 2,
   "id": "ef27ecf5-97ab-4d2d-a4ce-4a6028e0f43d",
   "metadata": {},
   "outputs": [],
   "source": [
    "# Explain Primary Key and Foreign Key."
   ]
  },
  {
   "cell_type": "code",
   "execution_count": 4,
   "id": "b290f0b8-3b21-4447-9c5c-919292d4e4bd",
   "metadata": {},
   "outputs": [
    {
     "data": {
      "text/plain": [
       "'\\nAns. A primary key is a field or a set of fields in a database table that uniquely identifies each record in that table.\\n     \\n     A foreign key is a column or a set of columns in a database table that refers to the primary key of another table. \\n'"
      ]
     },
     "execution_count": 4,
     "metadata": {},
     "output_type": "execute_result"
    }
   ],
   "source": [
    "\"\"\"\n",
    "Ans. A primary key is a field or a set of fields in a database table that uniquely identifies each record in that table.\n",
    "     \n",
    "     A foreign key is a column or a set of columns in a database table that refers to the primary key of another table. \n",
    "\"\"\""
   ]
  },
  {
   "cell_type": "code",
   "execution_count": null,
   "id": "3e4028ce-27d2-43f9-a3c1-831895427152",
   "metadata": {},
   "outputs": [],
   "source": [
    "# Write a python code to connect MySQL to python. Explain the cursor() and execute() method."
   ]
  },
  {
   "cell_type": "code",
   "execution_count": 5,
   "id": "1a63d797-ad91-4ba4-8a29-a5879e568c08",
   "metadata": {},
   "outputs": [
    {
     "data": {
      "text/plain": [
       "'\\nAns. \\n'"
      ]
     },
     "execution_count": 5,
     "metadata": {},
     "output_type": "execute_result"
    }
   ],
   "source": [
    "\"\"\"\n",
    "Ans. \n",
    "\"\"\""
   ]
  },
  {
   "cell_type": "code",
   "execution_count": 6,
   "id": "65ce4539-43f1-4f52-baac-cdb1ffd982e8",
   "metadata": {},
   "outputs": [],
   "source": [
    "# Give the order of execution of SQL clauses in an SQL query."
   ]
  },
  {
   "cell_type": "code",
   "execution_count": null,
   "id": "a4ec1054-f289-4a24-87bc-88ee3fc1bc57",
   "metadata": {},
   "outputs": [],
   "source": [
    "\"\"\"\n",
    "Ans. The order of execution of clauses in a query is generally as follows:\n",
    "\n",
    "    1)FROM: Specifies the table or tables from which to retrieve the data.\n",
    "    2)WHERE: Applies conditions to filter the rows based on specified criteria.\n",
    "    3)GROUP BY: Groups the result set by one or more columns.\n",
    "    4)HAVING: Applies conditions to filter the groups created by the GROUP BY clause.\n",
    "    5)SELECT: Specifies the columns to be included in the result set.\n",
    "    6)ORDER BY: Sorts the result set based on specified columns and sort orders.\n",
    "\"\"\""
   ]
  }
 ],
 "metadata": {
  "kernelspec": {
   "display_name": "Python 3 (ipykernel)",
   "language": "python",
   "name": "python3"
  },
  "language_info": {
   "codemirror_mode": {
    "name": "ipython",
    "version": 3
   },
   "file_extension": ".py",
   "mimetype": "text/x-python",
   "name": "python",
   "nbconvert_exporter": "python",
   "pygments_lexer": "ipython3",
   "version": "3.10.8"
  }
 },
 "nbformat": 4,
 "nbformat_minor": 5
}
