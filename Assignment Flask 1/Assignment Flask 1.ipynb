{
 "cells": [
  {
   "cell_type": "code",
   "execution_count": 1,
   "id": "65d4f6b1-f264-4792-9779-7b53c377f0e9",
   "metadata": {},
   "outputs": [],
   "source": [
    "# What is Flask Framework? What are the advantages of Flask Framework?"
   ]
  },
  {
   "cell_type": "code",
   "execution_count": 3,
   "id": "6e10334b-6992-471c-8130-6d9196777107",
   "metadata": {},
   "outputs": [
    {
     "data": {
      "text/plain": [
       "'\\nAns. Flask is a lightweight and extensible web framework for Python. It is designed to be simple and easy to use, \\n     making it a popular choice for building web applications and APIs. \\n     \\n     Advantages of the Flask framework:\\n    \\n     \\n     1) Simplicity\\n     2) Flexibility\\n     3) RESTful Request Handling\\n     4) Extensibility\\n'"
      ]
     },
     "execution_count": 3,
     "metadata": {},
     "output_type": "execute_result"
    }
   ],
   "source": [
    "\"\"\"\n",
    "Ans. Flask is a lightweight and extensible web framework for Python. It is designed to be simple and easy to use, \n",
    "     making it a popular choice for building web applications and APIs. \n",
    "     \n",
    "     Advantages of the Flask framework:\n",
    "    \n",
    "     \n",
    "     1) Simplicity\n",
    "     2) Flexibility\n",
    "     3) RESTful Request Handling\n",
    "     4) Extensibility\n",
    "\"\"\""
   ]
  },
  {
   "cell_type": "code",
   "execution_count": 5,
   "id": "35ecc8e3-cc53-4c1e-8f3d-56fd84724058",
   "metadata": {},
   "outputs": [],
   "source": [
    "# Create a simple Flask application to display ‘Hello World!!’. Attach the screenshot of the output in\n",
    "# Jupyter Notebook."
   ]
  },
  {
   "cell_type": "code",
   "execution_count": 12,
   "id": "e9f7445b-8cc8-4f86-aba0-268c80450be7",
   "metadata": {},
   "outputs": [
    {
     "data": {
      "text/plain": [
       "'\\nfrom flask import Flask\\n\\napp = Flask(__name__)\\n\\n@app.route(\"/\")\\ndef hello_world():\\n    return \"<h1>Hello, World!</h1>\"\\n\\nif __name__==\"__main__\":\\n    app.run(host=\"0.0.0.0\")\\n'"
      ]
     },
     "execution_count": 12,
     "metadata": {},
     "output_type": "execute_result"
    }
   ],
   "source": [
    "\"\"\"\n",
    "from flask import Flask\n",
    "\n",
    "app = Flask(__name__)\n",
    "\n",
    "@app.route(\"/\")\n",
    "def hello_world():\n",
    "    return \"<h1>Hello, World!</h1>\"\n",
    "\n",
    "if __name__==\"__main__\":\n",
    "    app.run(host=\"0.0.0.0\")\n",
    "\"\"\"\n"
   ]
  },
  {
   "cell_type": "code",
   "execution_count": 9,
   "id": "30609469-d0d8-48b4-a8fc-a81927c5334e",
   "metadata": {},
   "outputs": [],
   "source": [
    "# What is App routing in Flask? Why do we use app routes?"
   ]
  },
  {
   "cell_type": "code",
   "execution_count": 10,
   "id": "d1fd9570-ec36-480c-a9d8-08f2f9cf2842",
   "metadata": {},
   "outputs": [
    {
     "data": {
      "text/plain": [
       "'\\nAns. In Flask, app routing refers to the process of defining URL patterns and associating them with specific functions\\n     or views in your web application. This is done using the @app.route decorator.\\n     \\n     We use app routes for: \\n     \\n     1) URL Mapping\\n     2) Code Organization\\n     3) Readability\\n     4) Scalability\\n'"
      ]
     },
     "execution_count": 10,
     "metadata": {},
     "output_type": "execute_result"
    }
   ],
   "source": [
    "\"\"\"\n",
    "Ans. In Flask, app routing refers to the process of defining URL patterns and associating them with specific functions\n",
    "     or views in your web application. This is done using the @app.route decorator.\n",
    "     \n",
    "     We use app routes for: \n",
    "     \n",
    "     1) URL Mapping\n",
    "     2) Code Organization\n",
    "     3) Readability\n",
    "     4) Scalability\n",
    "\"\"\""
   ]
  },
  {
   "cell_type": "code",
   "execution_count": 11,
   "id": "74541440-9c0d-4fe6-9a61-17d4dc01fbb1",
   "metadata": {},
   "outputs": [],
   "source": [
    "# Create a “/welcome” route to display the welcome message “Welcome to ABC Corporation” and a “/”\n",
    "# route to show the following details:\n",
    "# \n",
    "# Company Name: ABC Corporation\n",
    "# Location: India\n",
    "# Contact Detail: 999-999-9999"
   ]
  },
  {
   "cell_type": "code",
   "execution_count": 19,
   "id": "82903b8a-16d7-4a3a-bf6d-be88610bd042",
   "metadata": {},
   "outputs": [
    {
     "data": {
      "text/plain": [
       "'\\nfrom flask import Flask\\n\\napp = Flask(__name__)\\n\\n@app.route(\\'/\\')\\ndef company_details():\\n    return \\'\\'\\'\\n    <h1>Company Details</h1>\\n    <p><strong>Company Name:</strong> ABC Corporation</p>\\n    <p><strong>Location:</strong> India</p>\\n    <p><strong>Contact Detail:</strong> 999-999-9999</p>\\n    \\'\\'\\'\\n\\n@app.route(\\'/welcome\\')\\ndef welcome():\\n    return \\'<h1>Welcome to ABC Corporation</h1>\\'\\n\\nif __name__==\"__main__\":\\n    app.run(host=\"0.0.0.0\")\\n\\n'"
      ]
     },
     "execution_count": 19,
     "metadata": {},
     "output_type": "execute_result"
    }
   ],
   "source": [
    "\"\"\"\n",
    "from flask import Flask\n",
    "\n",
    "app = Flask(__name__)\n",
    "\n",
    "@app.route('/')\n",
    "def company_details():\n",
    "    return '''\n",
    "    <h1>Company Details</h1>\n",
    "    <p><strong>Company Name:</strong> ABC Corporation</p>\n",
    "    <p><strong>Location:</strong> India</p>\n",
    "    <p><strong>Contact Detail:</strong> 999-999-9999</p>\n",
    "    '''\n",
    "\n",
    "@app.route('/welcome')\n",
    "def welcome():\n",
    "    return '<h1>Welcome to ABC Corporation</h1>'\n",
    "\n",
    "if __name__==\"__main__\":\n",
    "    app.run(host=\"0.0.0.0\")\n",
    "\n",
    "\"\"\""
   ]
  },
  {
   "cell_type": "code",
   "execution_count": 20,
   "id": "bb3ef05d-4332-4fa7-8d63-d3fe2b46a5e0",
   "metadata": {},
   "outputs": [],
   "source": [
    "# What function is used in Flask for URL Building? Write a Python code to demonstrate the working of the\n",
    "# url_for() function."
   ]
  },
  {
   "cell_type": "code",
   "execution_count": null,
   "id": "18722cb2-47be-4f6c-8877-21d97ec8cb8b",
   "metadata": {},
   "outputs": [],
   "source": [
    "\"\"\"\n",
    "Ans. In Flask, the url_for function is used for URL building. It generates a URL for the given endpoint and any \n",
    "     specified parameters. This is particularly useful to avoid hardcoding URLs in your templates or code, making\n",
    "     your application more flexible.\n",
    "\"\"\""
   ]
  }
 ],
 "metadata": {
  "kernelspec": {
   "display_name": "Python 3 (ipykernel)",
   "language": "python",
   "name": "python3"
  },
  "language_info": {
   "codemirror_mode": {
    "name": "ipython",
    "version": 3
   },
   "file_extension": ".py",
   "mimetype": "text/x-python",
   "name": "python",
   "nbconvert_exporter": "python",
   "pygments_lexer": "ipython3",
   "version": "3.10.8"
  }
 },
 "nbformat": 4,
 "nbformat_minor": 5
}
