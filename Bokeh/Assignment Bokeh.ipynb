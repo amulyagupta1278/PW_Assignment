{
 "cells": [
  {
   "cell_type": "code",
   "execution_count": 1,
   "id": "890a1992-293f-42c4-9027-411570c560f2",
   "metadata": {},
   "outputs": [
    {
     "name": "stdout",
     "output_type": "stream",
     "text": [
      "Requirement already satisfied: bokeh in /opt/conda/lib/python3.10/site-packages (3.0.3)\n",
      "Requirement already satisfied: pillow>=7.1.0 in /opt/conda/lib/python3.10/site-packages (from bokeh) (9.2.0)\n",
      "Requirement already satisfied: packaging>=16.8 in /opt/conda/lib/python3.10/site-packages (from bokeh) (22.0)\n",
      "Requirement already satisfied: tornado>=5.1 in /opt/conda/lib/python3.10/site-packages (from bokeh) (6.1)\n",
      "Requirement already satisfied: pandas>=1.2 in /opt/conda/lib/python3.10/site-packages (from bokeh) (1.5.2)\n",
      "Requirement already satisfied: numpy>=1.11.3 in /opt/conda/lib/python3.10/site-packages (from bokeh) (1.23.5)\n",
      "Requirement already satisfied: PyYAML>=3.10 in /opt/conda/lib/python3.10/site-packages (from bokeh) (6.0)\n",
      "Requirement already satisfied: Jinja2>=2.9 in /opt/conda/lib/python3.10/site-packages (from bokeh) (3.1.2)\n",
      "Requirement already satisfied: contourpy>=1 in /opt/conda/lib/python3.10/site-packages (from bokeh) (1.0.6)\n",
      "Requirement already satisfied: xyzservices>=2021.09.1 in /opt/conda/lib/python3.10/site-packages (from bokeh) (2022.9.0)\n",
      "Requirement already satisfied: MarkupSafe>=2.0 in /opt/conda/lib/python3.10/site-packages (from Jinja2>=2.9->bokeh) (2.1.1)\n",
      "Requirement already satisfied: python-dateutil>=2.8.1 in /opt/conda/lib/python3.10/site-packages (from pandas>=1.2->bokeh) (2.8.2)\n",
      "Requirement already satisfied: pytz>=2020.1 in /opt/conda/lib/python3.10/site-packages (from pandas>=1.2->bokeh) (2022.6)\n",
      "Requirement already satisfied: six>=1.5 in /opt/conda/lib/python3.10/site-packages (from python-dateutil>=2.8.1->pandas>=1.2->bokeh) (1.16.0)\n",
      "Note: you may need to restart the kernel to use updated packages.\n"
     ]
    }
   ],
   "source": [
    "pip install bokeh"
   ]
  },
  {
   "cell_type": "code",
   "execution_count": 2,
   "id": "7af4e8e9-eb01-4be9-9f2a-470aaaf5e97d",
   "metadata": {},
   "outputs": [],
   "source": [
    "# How can you create a Bokeh plot using Python code?"
   ]
  },
  {
   "cell_type": "code",
   "execution_count": 3,
   "id": "4230c5bf-a9c1-4d2c-937e-43eb6a6e882b",
   "metadata": {},
   "outputs": [],
   "source": [
    "from bokeh.plotting import figure, show\n",
    "from bokeh.io import output_file\n",
    "\n",
    "\n",
    "x = [1, 2, 3, 4, 5]\n",
    "y = [6, 7, 2, 4, 5]\n",
    "\n",
    "\n",
    "p = figure(title='Simple Bokeh Plot', x_axis_label='X-axis', y_axis_label='Y-axis')\n",
    "\n",
    "\n",
    "p.circle(x, y, size=10, color='navy', alpha=0.5)\n",
    "\n",
    "\n",
    "output_file('bokeh_plot.html')\n",
    "\n",
    "\n",
    "show(p)\n"
   ]
  },
  {
   "cell_type": "code",
   "execution_count": 4,
   "id": "723d9566-9f77-4b91-8ab8-5c32b20c6ac6",
   "metadata": {},
   "outputs": [],
   "source": [
    "# What are glyphs in Bokeh, and how can you add them to a Bokeh plot? Explain with an example."
   ]
  },
  {
   "cell_type": "code",
   "execution_count": 5,
   "id": "3ec9b1e2-b20d-491f-ad03-f340a8bb3e04",
   "metadata": {},
   "outputs": [
    {
     "data": {
      "text/plain": [
       "'\\nglyphs are the visual representations of data in a plot. They are the basic building blocks that represent different types of\\ngeometric shapes, such as circles, lines, squares, etc.\\n'"
      ]
     },
     "execution_count": 5,
     "metadata": {},
     "output_type": "execute_result"
    }
   ],
   "source": [
    "from bokeh.plotting import figure, show\n",
    "from bokeh.io import output_file\n",
    "\n",
    "x = [1, 2, 3, 4, 5]\n",
    "y = [6, 7, 2, 4, 5]\n",
    "\n",
    "p = figure(title='Bokeh Plot with Glyphs', x_axis_label='X-axis', y_axis_label='Y-axis')\n",
    "p.circle(x, y, size=10, color='navy', alpha=0.5)\n",
    "output_file('bokeh_plot_with_glyphs.html')\n",
    "show(p)\n",
    "\n",
    "\"\"\"\n",
    "glyphs are the visual representations of data in a plot. They are the basic building blocks that represent different types of\n",
    "geometric shapes, such as circles, lines, squares, etc.\n",
    "\"\"\""
   ]
  },
  {
   "cell_type": "code",
   "execution_count": 6,
   "id": "b0062d6b-2c94-4e2a-bdfb-ce6e24fa8153",
   "metadata": {},
   "outputs": [],
   "source": [
    "# How can you customize the appearance of a Bokeh plot, including the axes, title, and legend?"
   ]
  },
  {
   "cell_type": "code",
   "execution_count": 7,
   "id": "aa75d0b0-7e3f-4e92-afdf-f60f22ac64ad",
   "metadata": {},
   "outputs": [],
   "source": [
    "from bokeh.plotting import figure, show\n",
    "from bokeh.io import output_file\n",
    "from bokeh.models import Legend\n",
    "\n",
    "x = [1, 2, 3, 4, 5]\n",
    "y1 = [6, 7, 2, 4, 5]\n",
    "y2 = [4, 5, 1, 8, 2]\n",
    "\n",
    "p = figure(title='Customized Bokeh Plot', x_axis_label='X-axis', y_axis_label='Y-axis')\n",
    "\n",
    "line1 = p.line(x, y1, line_width=2, line_color='blue', legend_label='Series 1')\n",
    "line2 = p.line(x, y2, line_width=2, line_color='green', legend_label='Series 2')\n",
    "\n",
    "p.title.text_color = \"navy\"\n",
    "p.title.text_font_size = \"18px\"\n",
    "p.xaxis.axis_label_text_font_style = \"italic\"\n",
    "p.yaxis.axis_label_text_font_style = \"italic\"\n",
    "\n",
    "legend = Legend(items=[(\"Series 1\", [line1]), (\"Series 2\", [line2])])\n",
    "p.add_layout(legend, 'below')\n",
    "\n",
    "output_file('customized_bokeh_plot.html')\n",
    "\n",
    "show(p)\n"
   ]
  },
  {
   "cell_type": "code",
   "execution_count": 8,
   "id": "61669ac9-5725-432a-8ff6-07a59470d88c",
   "metadata": {},
   "outputs": [],
   "source": [
    "# What is a Bokeh server, and how can you use it to create interactive plots that can be updated in\n",
    "# real time?"
   ]
  },
  {
   "cell_type": "code",
   "execution_count": 9,
   "id": "900669b0-ab86-40d2-94d9-120c98f342d7",
   "metadata": {},
   "outputs": [
    {
     "data": {
      "text/plain": [
       "\"\\nBokeh server is a component of the Bokeh library that allows you to create interactive web applications with real-time \\nupdating capabilities. With the Bokeh server, you can build interactive plots and dashboards where the data can be updated \\ndynamically, and users can interact with the application in real time\\n\\nDefine a Bokeh Plot: Create a Bokeh plot using the Bokeh plotting API, similar to what you would do for static plots.\\n\\nAdd Interactivity: Use Bokeh's interactive elements, such as sliders, buttons, and dropdowns, to enable user interactions with\\nthe plot.\\n\""
      ]
     },
     "execution_count": 9,
     "metadata": {},
     "output_type": "execute_result"
    }
   ],
   "source": [
    "\"\"\"\n",
    "Bokeh server is a component of the Bokeh library that allows you to create interactive web applications with real-time \n",
    "updating capabilities. With the Bokeh server, you can build interactive plots and dashboards where the data can be updated \n",
    "dynamically, and users can interact with the application in real time\n",
    "\n",
    "Define a Bokeh Plot: Create a Bokeh plot using the Bokeh plotting API, similar to what you would do for static plots.\n",
    "\n",
    "Add Interactivity: Use Bokeh's interactive elements, such as sliders, buttons, and dropdowns, to enable user interactions with\n",
    "the plot.\n",
    "\"\"\""
   ]
  },
  {
   "cell_type": "code",
   "execution_count": 10,
   "id": "4797e1d3-14b8-4343-8c16-93425b364e59",
   "metadata": {},
   "outputs": [],
   "source": [
    "# How can you embed a Bokeh plot into a web page or dashboard using Flask or Django?"
   ]
  },
  {
   "cell_type": "code",
   "execution_count": 11,
   "id": "a39cdd66-b219-4e24-b96e-f4cf9d980b26",
   "metadata": {},
   "outputs": [
    {
     "data": {
      "text/plain": [
       "'\\nEmbedding a Bokeh plot into a web page or a dashboard using Flask or Django involves creating a web application and \\nintegrating Bokeh components into the HTML templates.\\n'"
      ]
     },
     "execution_count": 11,
     "metadata": {},
     "output_type": "execute_result"
    }
   ],
   "source": [
    "\"\"\"\n",
    "Embedding a Bokeh plot into a web page or a dashboard using Flask or Django involves creating a web application and \n",
    "integrating Bokeh components into the HTML templates.\n",
    "\"\"\""
   ]
  },
  {
   "cell_type": "code",
   "execution_count": null,
   "id": "b5f4900a-fee8-4c68-adf6-e3c99820aa7a",
   "metadata": {},
   "outputs": [],
   "source": []
  }
 ],
 "metadata": {
  "kernelspec": {
   "display_name": "Python 3 (ipykernel)",
   "language": "python",
   "name": "python3"
  },
  "language_info": {
   "codemirror_mode": {
    "name": "ipython",
    "version": 3
   },
   "file_extension": ".py",
   "mimetype": "text/x-python",
   "name": "python",
   "nbconvert_exporter": "python",
   "pygments_lexer": "ipython3",
   "version": "3.10.8"
  }
 },
 "nbformat": 4,
 "nbformat_minor": 5
}
