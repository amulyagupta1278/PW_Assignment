{
 "cells": [
  {
   "cell_type": "code",
   "execution_count": 1,
   "id": "c1fa508b-bcbb-464d-a4be-34e6eea06dfe",
   "metadata": {},
   "outputs": [],
   "source": [
    "# Create a Pandas Series that contains the following data: 4, 8, 15, 16, 23, and 42. Then, print the series."
   ]
  },
  {
   "cell_type": "code",
   "execution_count": 2,
   "id": "01f2bac7-5214-49eb-8fb7-199d837a41bf",
   "metadata": {},
   "outputs": [
    {
     "name": "stdout",
     "output_type": "stream",
     "text": [
      "0     4\n",
      "1     8\n",
      "2    15\n",
      "3    16\n",
      "4    23\n",
      "5    42\n",
      "dtype: int64\n"
     ]
    }
   ],
   "source": [
    "import pandas as pd\n",
    "\n",
    "data = [4,8,15,16,23,42]\n",
    "\n",
    "series = pd.Series(data)\n",
    "\n",
    "print(series)"
   ]
  },
  {
   "cell_type": "code",
   "execution_count": 3,
   "id": "6bd4cd62-21ea-4f7c-8c55-75eabf500e98",
   "metadata": {},
   "outputs": [],
   "source": [
    "# Create a variable of list type containing 10 elements in it, and apply pandas.Series function on the\n",
    "# variable print it."
   ]
  },
  {
   "cell_type": "code",
   "execution_count": 4,
   "id": "1746e5ae-6de2-49fe-adb9-6ccdb91490d3",
   "metadata": {},
   "outputs": [
    {
     "name": "stdout",
     "output_type": "stream",
     "text": [
      "0     1\n",
      "1     2\n",
      "2     3\n",
      "3     4\n",
      "4     5\n",
      "5     6\n",
      "6     7\n",
      "7     8\n",
      "8     9\n",
      "9    10\n",
      "dtype: int64\n"
     ]
    }
   ],
   "source": [
    "import pandas as pd\n",
    "\n",
    "data = [1,2,3,4,5,6,7,8,9,10]\n",
    "series = pd.Series(data)\n",
    "print(series)"
   ]
  },
  {
   "cell_type": "code",
   "execution_count": 5,
   "id": "74d0672b-f103-4201-98e8-1eabbaff8f55",
   "metadata": {},
   "outputs": [],
   "source": [
    "# Create a Pandas DataFrame that contains the following data Then, print the DataFrame."
   ]
  },
  {
   "cell_type": "code",
   "execution_count": 6,
   "id": "e9667c98-6ddf-40da-a3a1-59222e2340e6",
   "metadata": {},
   "outputs": [
    {
     "name": "stdout",
     "output_type": "stream",
     "text": [
      "     Name  Age  Gender\n",
      "0   Alice   25  Female\n",
      "1     Bob   30    Male\n",
      "2  Claire   27  Female\n"
     ]
    }
   ],
   "source": [
    "import pandas as pd\n",
    "\n",
    "data = { 'Name':['Alice','Bob','Claire' ],\n",
    "         'Age':[25,30,27],\n",
    "        'Gender':['Female','Male','Female']\n",
    "\n",
    "        }\n",
    "\n",
    "df = pd.DataFrame(data)\n",
    "\n",
    "print(df)"
   ]
  },
  {
   "cell_type": "code",
   "execution_count": 7,
   "id": "4c6284c5-fe26-4184-9611-9ac0e537179e",
   "metadata": {},
   "outputs": [],
   "source": [
    "# What is ‘DataFrame’ in pandas and how is it different from pandas.series? Explain with an example."
   ]
  },
  {
   "cell_type": "code",
   "execution_count": 8,
   "id": "733ad659-2c20-4f94-ab95-8cfc90c13210",
   "metadata": {},
   "outputs": [
    {
     "name": "stdout",
     "output_type": "stream",
     "text": [
      "series 0    10\n",
      "1    20\n",
      "2    30\n",
      "3    40\n",
      "dtype: int64\n",
      "Dataframe      Name  Age  Gender\n",
      "0   Alice   25  Female\n",
      "1     Bob   30    Male\n",
      "2  Claire   27  Female\n"
     ]
    }
   ],
   "source": [
    "\"\"\"\n",
    "Ans. A DataFrame is a two-dimensional, size-mutable, and potentially heterogeneous tabular data structure with labeled axes\n",
    "     (rows and columns).\n",
    "     \n",
    "     A Pandas Series is a one-dimensional labeled array capable of holding any data type. It is essentially a single column\n",
    "     of a DataFrame. \n",
    "\"\"\"\n",
    "import pandas as pd\n",
    "series = pd.Series([10, 20, 30, 40])\n",
    "\n",
    "df = pd.DataFrame({\n",
    "    'Name': ['Alice', 'Bob', 'Claire'],\n",
    "    'Age': [25, 30, 27],\n",
    "    'Gender': ['Female', 'Male', 'Female']\n",
    "})\n",
    "\n",
    "print(\"series\",series)\n",
    "print(\"Dataframe\", df)"
   ]
  },
  {
   "cell_type": "code",
   "execution_count": 9,
   "id": "1d2b6ed3-4aac-437d-932f-53db3461e29f",
   "metadata": {},
   "outputs": [],
   "source": [
    "# What are some common functions you can use to manipulate data in a Pandas DataFrame? Can you give an example of when\n",
    "# you might use one of these functions?"
   ]
  },
  {
   "cell_type": "code",
   "execution_count": 10,
   "id": "83bb86ac-150a-4a10-997e-aaa8af7872d9",
   "metadata": {},
   "outputs": [
    {
     "data": {
      "text/plain": [
       "\"\\nAns. Some common functions are:\\n     \\n     1) head() and tail()\\n     2) describe() df.describe()\\n     3) shape print(df.shape)\\n     4) groupby() df.groupby('Gender')['Age'].mean()\\n\""
      ]
     },
     "execution_count": 10,
     "metadata": {},
     "output_type": "execute_result"
    }
   ],
   "source": [
    "\"\"\"\n",
    "Ans. Some common functions are:\n",
    "     \n",
    "     1) head() and tail()\n",
    "     2) describe() df.describe()\n",
    "     3) shape print(df.shape)\n",
    "     4) groupby() df.groupby('Gender')['Age'].mean()\n",
    "\"\"\""
   ]
  },
  {
   "cell_type": "code",
   "execution_count": 11,
   "id": "13641454-bf6a-4880-96ef-85dd42f994a7",
   "metadata": {},
   "outputs": [],
   "source": [
    "# Which of the following is mutable in nature Series, DataFrame, Panel?"
   ]
  },
  {
   "cell_type": "code",
   "execution_count": 12,
   "id": "537dd305-a899-4d34-9d94-4ab61097d0bc",
   "metadata": {},
   "outputs": [
    {
     "data": {
      "text/plain": [
       "'\\nAns. Series and DataFrame is a mutable meaning you can modify their values, add or remove elements, and perform various \\n     operations that alter the structure or content of the data. \\n'"
      ]
     },
     "execution_count": 12,
     "metadata": {},
     "output_type": "execute_result"
    }
   ],
   "source": [
    "\"\"\"\n",
    "Ans. Series and DataFrame is a mutable meaning you can modify their values, add or remove elements, and perform various \n",
    "     operations that alter the structure or content of the data. \n",
    "\"\"\""
   ]
  },
  {
   "cell_type": "code",
   "execution_count": 13,
   "id": "b148abd1-ea16-447f-a6ed-c54afa469d41",
   "metadata": {},
   "outputs": [],
   "source": [
    "# Create a DataFrame using multiple Series. Explain with an example."
   ]
  },
  {
   "cell_type": "code",
   "execution_count": 14,
   "id": "be097739-51d4-4c1c-84b1-9b8be22f84ab",
   "metadata": {},
   "outputs": [
    {
     "name": "stdout",
     "output_type": "stream",
     "text": [
      "     Name  Age  Gender\n",
      "0  Amulya    4    Male\n",
      "1  Atulya    5  Female\n",
      "2    Mark    6    Male\n"
     ]
    }
   ],
   "source": [
    "import pandas as pd\n",
    "\n",
    "name = pd.DataFrame({\n",
    "        'Name': ['Amulya', 'Atulya', 'Mark'],\n",
    "        'Age':[4,5,6],\n",
    "        'Gender':['Male', 'Female', 'Male']})\n",
    "print(name)"
   ]
  }
 ],
 "metadata": {
  "kernelspec": {
   "display_name": "Python 3 (ipykernel)",
   "language": "python",
   "name": "python3"
  },
  "language_info": {
   "codemirror_mode": {
    "name": "ipython",
    "version": 3
   },
   "file_extension": ".py",
   "mimetype": "text/x-python",
   "name": "python",
   "nbconvert_exporter": "python",
   "pygments_lexer": "ipython3",
   "version": "3.10.8"
  }
 },
 "nbformat": 4,
 "nbformat_minor": 5
}
