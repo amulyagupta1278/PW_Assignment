{
 "cells": [
  {
   "cell_type": "code",
   "execution_count": 1,
   "id": "e6c62246-7194-4948-a2ce-17bb80180f79",
   "metadata": {},
   "outputs": [],
   "source": [
    "# What is an API? Give an example, where an API is used in real life."
   ]
  },
  {
   "cell_type": "code",
   "execution_count": 2,
   "id": "d17351da-6eb0-4632-b055-b3dfe750c656",
   "metadata": {},
   "outputs": [
    {
     "data": {
      "text/plain": [
       "\"\\nAns. API stands for Application Programming Interface which sets rules and tools to allow diffrent software application to\\n    communicate with each other. Some example in real life:\\n    \\n    Think of a smartphone app for the weather. The application must show the user's location's current weather conditions. \\n    The app can use a weather API to retrieve real-time weather data rather than producing its own. The weather app can \\n    request and receive the required meteorological data by using a set of functions and data formats provided by the weather\\n    API.\\n    \\n\""
      ]
     },
     "execution_count": 2,
     "metadata": {},
     "output_type": "execute_result"
    }
   ],
   "source": [
    "\"\"\"\n",
    "Ans. API stands for Application Programming Interface which sets rules and tools to allow diffrent software application to\n",
    "    communicate with each other. Some example in real life:\n",
    "    \n",
    "    Think of a smartphone app for the weather. The application must show the user's location's current weather conditions. \n",
    "    The app can use a weather API to retrieve real-time weather data rather than producing its own. The weather app can \n",
    "    request and receive the required meteorological data by using a set of functions and data formats provided by the weather\n",
    "    API.\n",
    "    \n",
    "\"\"\""
   ]
  },
  {
   "cell_type": "code",
   "execution_count": 3,
   "id": "ecab0bca-f9be-4cf5-beaf-7f1610814b79",
   "metadata": {},
   "outputs": [],
   "source": [
    "# Give advantages and disadvantages of using API."
   ]
  },
  {
   "cell_type": "code",
   "execution_count": 6,
   "id": "9865f864-ca10-4fe1-b670-e8bc2a3d9519",
   "metadata": {},
   "outputs": [
    {
     "data": {
      "text/plain": [
       "'\\nAns. Advantages for using API: \\n     \\n     1) APIs enable interoperability between different software systems. Applications can communicate and share data \\n        seamlessly, allowing them to work together efficiently.\\n        \\n     2) APIs allow for modular development. Developers can build on top of existing APIs, saving time and effort by \\n        leveraging pre-built functionalities.\\n     3) APIs accelerate development by providing ready-made solutions. Developers can focus on specific features \\n        without having to create everything from scratch.\\n\\n     Disadvantages for using API:\\n     \\n     1) APIs can be vulnerable to security threats if not properly secured. Issues such as data breaches, unauthorized \\n        access, or misuse can occur.\\n     \\n     2) Using third-party APIs may raise concerns about data privacy and compliance with regulations. Sharing sensitive\\n        data with external services requires careful consideration\\n\\n'"
      ]
     },
     "execution_count": 6,
     "metadata": {},
     "output_type": "execute_result"
    }
   ],
   "source": [
    "\"\"\"\n",
    "Ans. Advantages for using API: \n",
    "     \n",
    "     1) APIs enable interoperability between different software systems. Applications can communicate and share data \n",
    "        seamlessly, allowing them to work together efficiently.\n",
    "        \n",
    "     2) APIs allow for modular development. Developers can build on top of existing APIs, saving time and effort by \n",
    "        leveraging pre-built functionalities.\n",
    "     3) APIs accelerate development by providing ready-made solutions. Developers can focus on specific features \n",
    "        without having to create everything from scratch.\n",
    "\n",
    "     Disadvantages for using API:\n",
    "     \n",
    "     1) APIs can be vulnerable to security threats if not properly secured. Issues such as data breaches, unauthorized \n",
    "        access, or misuse can occur.\n",
    "     \n",
    "     2) Using third-party APIs may raise concerns about data privacy and compliance with regulations. Sharing sensitive\n",
    "        data with external services requires careful consideration\n",
    "\n",
    "\"\"\""
   ]
  },
  {
   "cell_type": "code",
   "execution_count": 7,
   "id": "245f7480-8c8d-44aa-80bd-f3325c5e2f78",
   "metadata": {},
   "outputs": [],
   "source": [
    "# What is a Web API? Differentiate between API and Web API."
   ]
  },
  {
   "cell_type": "code",
   "execution_count": 11,
   "id": "57306807-0770-4549-b5d7-941e5f8e9a11",
   "metadata": {},
   "outputs": [
    {
     "data": {
      "text/plain": [
       "\"\\nAns. Web API: refers to an API that can be accessed via the internet with common web protocols. It's a kind of API that\\n     enables basic web technologies like HTTP (Hypertext Transfer Protocol) to be used for communication across various \\n     software applications. \\n     \\n     Communication Protocol:\\n\\n    API: The communication protocol is not inherently specified. It could involve direct function calls, libraries, or other forms of communication.\\n    Web API: Utilizes standard web protocols, typically HTTP or HTTPS, making it accessible over the internet.\\n\\n    Access Method:\\n\\n    API: Can be accessed through various means, including function calls, libraries, or even direct system calls, depending on the type of API.\\n    Web API: Accessed through HTTP requests, commonly using methods such as GET, POST, PUT, and DELETE.\\n\\n\""
      ]
     },
     "execution_count": 11,
     "metadata": {},
     "output_type": "execute_result"
    }
   ],
   "source": [
    "\"\"\"\n",
    "Ans. Web API: refers to an API that can be accessed via the internet with common web protocols. It's a kind of API that\n",
    "     enables basic web technologies like HTTP (Hypertext Transfer Protocol) to be used for communication across various \n",
    "     software applications. \n",
    "     \n",
    "     Communication Protocol:\n",
    "\n",
    "    API: The communication protocol is not inherently specified. It could involve direct function calls, libraries, or other forms of communication.\n",
    "    Web API: Utilizes standard web protocols, typically HTTP or HTTPS, making it accessible over the internet.\n",
    "\n",
    "    Access Method:\n",
    "\n",
    "    API: Can be accessed through various means, including function calls, libraries, or even direct system calls, depending on the type of API.\n",
    "    Web API: Accessed through HTTP requests, commonly using methods such as GET, POST, PUT, and DELETE.\n",
    "\n",
    "\"\"\""
   ]
  },
  {
   "cell_type": "code",
   "execution_count": 12,
   "id": "d03a8208-dace-484d-8422-4d9b47c8a14b",
   "metadata": {},
   "outputs": [],
   "source": [
    "# Explain REST and SOAP Architecture. Mention shortcomings of SOAP."
   ]
  },
  {
   "cell_type": "code",
   "execution_count": 18,
   "id": "d612c122-28db-4b51-bbb8-be5e7c42fae8",
   "metadata": {},
   "outputs": [
    {
     "data": {
      "text/plain": [
       "'\\nAns. REST is an architectural style for designing networked applications. It relies on a stateless, client-server \\n     communication model where communication occurs over standard HTTP methods (GET, POST, PUT, DELETE). \\n     \\n     SOAP is protocol for exchanging structured information in web services. Unlike REST, which relies on standard web protocols like HTTP, SOAP uses its own protocol for communication. \\n'"
      ]
     },
     "execution_count": 18,
     "metadata": {},
     "output_type": "execute_result"
    }
   ],
   "source": [
    "\"\"\"\n",
    "Ans. REST is an architectural style for designing networked applications. It relies on a stateless, client-server \n",
    "     communication model where communication occurs over standard HTTP methods (GET, POST, PUT, DELETE). \n",
    "     \n",
    "     SOAP is protocol for exchanging structured information in web services. Unlike REST, which relies on standard \n",
    "     web protocols like HTTP, SOAP uses its own protocol for communication. \n",
    "\"\"\""
   ]
  },
  {
   "cell_type": "code",
   "execution_count": 2,
   "id": "30a5c1fe-132e-4656-87eb-86126465fa51",
   "metadata": {},
   "outputs": [],
   "source": [
    "# Differentiate between REST and SOAP."
   ]
  },
  {
   "cell_type": "code",
   "execution_count": 3,
   "id": "31b9f9a3-521e-4332-a4eb-83a3fe771409",
   "metadata": {},
   "outputs": [
    {
     "data": {
      "text/plain": [
       "'\\nAns. REST (Representational State Transfer) and SOAP (Simple Object Access Protocol) are two distinct architectural\\n     styles for designing web services. REST relies on a stateless, client-server communication model, utilizing \\n     standard HTTP methods and a resource-oriented approach. It emphasizes simplicity, scalability, and ease of use\\n     making it well-suited for scenarios where lightweight communication is essential, such as in web and mobile \\n     applications. On the other hand, SOAP is a protocol-driven approach that employs XML-based messages and can operate over various transport protocols. It is often chosen for scenarios requiring complex transactions and additional security features. However, SOAP tends to be more complex, with larger message sizes, resulting in increased overhead and potentially slower performance compared to the simplicity and efficiency of REST\\n'"
      ]
     },
     "execution_count": 3,
     "metadata": {},
     "output_type": "execute_result"
    }
   ],
   "source": [
    "\"\"\"\n",
    "Ans. REST (Representational State Transfer) and SOAP (Simple Object Access Protocol) are two distinct architectural\n",
    "     styles for designing web services. REST relies on a stateless, client-server communication model, utilizing \n",
    "     standard HTTP methods and a resource-oriented approach. It emphasizes simplicity, scalability, and ease of use\n",
    "     making it well-suited for scenarios where lightweight communication is essential, such as in web and mobile \n",
    "     applications. \n",
    "     \n",
    "     On the other hand, SOAP is a protocol-driven approach that employs XML-based messages and can operate over various\n",
    "     transport protocols. It is often chosen for scenarios requiring complex transactions and additional security features.\n",
    "\"\"\""
   ]
  },
  {
   "cell_type": "code",
   "execution_count": null,
   "id": "2417c12b-f8df-4d17-b026-8af982b7f3bf",
   "metadata": {},
   "outputs": [],
   "source": []
  }
 ],
 "metadata": {
  "kernelspec": {
   "display_name": "Python 3 (ipykernel)",
   "language": "python",
   "name": "python3"
  },
  "language_info": {
   "codemirror_mode": {
    "name": "ipython",
    "version": 3
   },
   "file_extension": ".py",
   "mimetype": "text/x-python",
   "name": "python",
   "nbconvert_exporter": "python",
   "pygments_lexer": "ipython3",
   "version": "3.10.8"
  }
 },
 "nbformat": 4,
 "nbformat_minor": 5
}
