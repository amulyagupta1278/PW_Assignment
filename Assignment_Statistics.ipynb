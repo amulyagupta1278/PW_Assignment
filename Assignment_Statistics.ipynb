{
 "cells": [
  {
   "cell_type": "code",
   "execution_count": 3,
   "id": "a5c70573-353b-4979-9f42-33d8b93b4c84",
   "metadata": {},
   "outputs": [],
   "source": [
    "# What is Statistics?"
   ]
  },
  {
   "cell_type": "code",
   "execution_count": 4,
   "id": "b024cb86-3287-437d-851a-befb4ccfba45",
   "metadata": {},
   "outputs": [
    {
     "data": {
      "text/plain": [
       "'\\nAns. Statistics is the science which involves collecting, analyzing, interpreting, presenting, and organizing data. \\n     The goal of statistics is to extract meaningful patterns and insights from data, which can then be used to make\\n     informed decisions or predictions.\\n'"
      ]
     },
     "execution_count": 4,
     "metadata": {},
     "output_type": "execute_result"
    }
   ],
   "source": [
    "\"\"\"\n",
    "Ans. Statistics is the science which involves collecting, analyzing, interpreting, presenting, and organizing data. \n",
    "     The goal of statistics is to extract meaningful patterns and insights from data, which can then be used to make\n",
    "     informed decisions or predictions.\n",
    "\"\"\""
   ]
  },
  {
   "cell_type": "code",
   "execution_count": 5,
   "id": "6885ff36-1ef0-4391-a3ca-219f3972ed67",
   "metadata": {},
   "outputs": [],
   "source": [
    "# Define the different types of statistics and give an example of when each type might be used."
   ]
  },
  {
   "cell_type": "code",
   "execution_count": 1,
   "id": "c061a057-6fa5-4d26-8a2a-fafc83403ee1",
   "metadata": {},
   "outputs": [
    {
     "data": {
      "text/plain": [
       "\"\\nAns. Their are 2 types of statistics:\\n    \\n     1)  Descriptive Statistics: It consists of organising and summarizing data. The measures of descriptive statistics include:\\n             1.1) Mean Mode Median\\n             Example: Calculating the average score of students in a class.\\n             \\n             1.2) Variation and Standard Deviation\\n             Example: Assessing the variability of test scores in a classroom.\\n     \\n     2)  Interential Statistics: It consists of data you have measured to form conclusion. The measures of statistics include:\\n             2.1) Linear Regression\\n             Example: Predicting a person's salary based on their level of education and years of experience.\\n             \\n             2.2) Confidence Interval\\n             Example: Estimating the average height of a population with a 95% confidence interval.\\n        \\n        \\n\""
      ]
     },
     "execution_count": 1,
     "metadata": {},
     "output_type": "execute_result"
    }
   ],
   "source": [
    "\"\"\"\n",
    "Ans. Their are 2 types of statistics:\n",
    "    \n",
    "     1)  Descriptive Statistics: It consists of organising and summarizing data. The measures of descriptive statistics include:\n",
    "             1.1) Mean Mode Median\n",
    "             Example: Calculating the average score of students in a class.\n",
    "             \n",
    "             1.2) Variation and Standard Deviation\n",
    "             Example: Assessing the variability of test scores in a classroom.\n",
    "     \n",
    "     2)  Interential Statistics: It consists of data you have measured to form conclusion. The measures of statistics include:\n",
    "             2.1) Linear Regression\n",
    "             Example: Predicting a person's salary based on their level of education and years of experience.\n",
    "             \n",
    "             2.2) Confidence Interval\n",
    "             Example: Estimating the average height of a population with a 95% confidence interval.\n",
    "        \n",
    "        \n",
    "\"\"\""
   ]
  },
  {
   "cell_type": "code",
   "execution_count": 2,
   "id": "53a878ea-5a86-4657-a7e4-525532885f5f",
   "metadata": {},
   "outputs": [],
   "source": [
    "# What are the different types of data and how do they differ from each other? Provide an example of\n",
    "# each type of data."
   ]
  },
  {
   "cell_type": "code",
   "execution_count": 1,
   "id": "7b1913ea-4bef-469f-b63d-1427c5cdaed6",
   "metadata": {},
   "outputs": [
    {
     "data": {
      "text/plain": [
       "'\\n\\nAns. Data can be classified into different types based on its nature and characteristics. The main types of data are:\\n     1) Qualitative Data: Qualitative data describes qualities or characteristics and cannot be measured in numerical terms\\n         \\n         1.1) Nominal Data: Categories with no inherent order or ranking. \\n         \\n                            Examples include colors, gender, or types of animals.\\n                            \\n         1.2) Ordinal Data: Categories with a meaningful order or ranking, but with inconsistent intervals.\\n         \\n                            Examples include education levels\\n\\n     2) Quantitative Data: Quantitative data represents measurable quantities and can be expressed in numerical terms\\n     \\n         2.1) Discrete Data: Numerical data with distinct, separate values. \\n         \\n                             Examples include the number of students in a classroom \\n         \\n         2.2) Continuous Data: Numerical data that can take any value within a given range and can have an infinite number of \\n                               possible values. \\n                               \\n                               Examples include height, weight, or temperature measured with a high level of precision.  \\n     \\n'"
      ]
     },
     "execution_count": 1,
     "metadata": {},
     "output_type": "execute_result"
    }
   ],
   "source": [
    "\"\"\"\n",
    "\n",
    "Ans. Data can be classified into different types based on its nature and characteristics. The main types of data are:\n",
    "     1) Qualitative Data: Qualitative data describes qualities or characteristics and cannot be measured in numerical terms\n",
    "         \n",
    "         1.1) Nominal Data: Categories with no inherent order or ranking. \n",
    "         \n",
    "                            Examples include colors, gender, or types of animals.\n",
    "                            \n",
    "         1.2) Ordinal Data: Categories with a meaningful order or ranking, but with inconsistent intervals.\n",
    "         \n",
    "                            Examples include education levels\n",
    "\n",
    "     2) Quantitative Data: Quantitative data represents measurable quantities and can be expressed in numerical terms\n",
    "     \n",
    "         2.1) Discrete Data: Numerical data with distinct, separate values. \n",
    "         \n",
    "                             Examples include the number of students in a classroom \n",
    "         \n",
    "         2.2) Continuous Data: Numerical data that can take any value within a given range and can have an infinite number of \n",
    "                               possible values. \n",
    "                               \n",
    "                               Examples include height, weight, or temperature measured with a high level of precision.  \n",
    "     \n",
    "\"\"\""
   ]
  },
  {
   "cell_type": "code",
   "execution_count": 2,
   "id": "06044d84-e383-4e99-b8a2-702828a95f92",
   "metadata": {},
   "outputs": [],
   "source": [
    "# Categorise the following datasets with respect to quantitative and qualitative data types:\n",
    "#  (i) Grading in exam: A+, A, B+, B, C+, C, D, E \n",
    "#  (ii) Colour of mangoes: yellow, green, orange, red\n",
    "#  (iii) Height data of a class: [178.9, 179, 179.5, 176, 177.2, 178.3, 175.8,...]\n",
    "#  (iv) Number of mangoes exported by a farm: [500, 600, 478, 672, ...]"
   ]
  },
  {
   "cell_type": "code",
   "execution_count": 3,
   "id": "88000fcb-2e34-498f-9db4-3c0a0564e145",
   "metadata": {},
   "outputs": [
    {
     "data": {
      "text/plain": [
       "'\\nAns. Categorise the following datasets with respect to quantitative and qualitative data types:\\n\\n(i) Grading in exam: A+, A, B+, B, C+, C, D, E                                           Qualitative\\n\\n(ii) Colour of mangoes: yellow, green, orange, red                                       Qualitative\\n\\n(iii) Height data of a class: [178.9, 179, 179.5, 176, 177.2, 178.3, 175.8,...]          Quantitative\\n\\n(iv) Number of mangoes exported by a farm: [500, 600, 478, 672, ...]                     Quantitative\\n\\n'"
      ]
     },
     "execution_count": 3,
     "metadata": {},
     "output_type": "execute_result"
    }
   ],
   "source": [
    "\"\"\"\n",
    "Ans. Categorise the following datasets with respect to quantitative and qualitative data types:\n",
    "\n",
    "(i) Grading in exam: A+, A, B+, B, C+, C, D, E                                           Qualitative\n",
    "\n",
    "(ii) Colour of mangoes: yellow, green, orange, red                                       Qualitative\n",
    "\n",
    "(iii) Height data of a class: [178.9, 179, 179.5, 176, 177.2, 178.3, 175.8,...]          Quantitative\n",
    "\n",
    "(iv) Number of mangoes exported by a farm: [500, 600, 478, 672, ...]                     Quantitative\n",
    "\n",
    "\"\"\""
   ]
  },
  {
   "cell_type": "code",
   "execution_count": 4,
   "id": "a9060288-a85c-4b34-924a-c25210b9375c",
   "metadata": {},
   "outputs": [],
   "source": [
    "# Explain the concept of levels of measurement and give an example of a variable for each level."
   ]
  },
  {
   "cell_type": "code",
   "execution_count": 5,
   "id": "89c7c142-b3dc-45eb-8c2c-5ff68b6a5fb6",
   "metadata": {},
   "outputs": [
    {
     "data": {
      "text/plain": [
       "\"\\nAns. Levels of measurement, also known as scales of measurement, refer to the way data is measured and categorized. \\n\\n     1) Nominal: Nominal data consists of categories or labels with no inherent order or ranking. It represents qualitative\\n                 data where items are assigned to distinct categories.\\n                 \\n                 Example: Eye colors (e.g., blue, brown, green) are nominal variables.\\n     \\n     2) Ordinal: Ordinal data represents categories with a meaningful order or ranking, but the intervals between them are \\n                 not consistent.\\n                 \\n                 Example: Education levels (e.g., high school, bachelor's, master's) are ordinal variables\\n\""
      ]
     },
     "execution_count": 5,
     "metadata": {},
     "output_type": "execute_result"
    }
   ],
   "source": [
    "\"\"\"\n",
    "Ans. Levels of measurement, also known as scales of measurement, refer to the way data is measured and categorized. \n",
    "\n",
    "     1) Nominal: Nominal data consists of categories or labels with no inherent order or ranking. It represents qualitative\n",
    "                 data where items are assigned to distinct categories.\n",
    "                 \n",
    "                 Example: Eye colors (e.g., blue, brown, green) are nominal variables.\n",
    "     \n",
    "     2) Ordinal: Ordinal data represents categories with a meaningful order or ranking, but the intervals between them are \n",
    "                 not consistent.\n",
    "                 \n",
    "                 Example: Education levels (e.g., high school, bachelor's, master's) are ordinal variables\n",
    "\"\"\""
   ]
  },
  {
   "cell_type": "code",
   "execution_count": null,
   "id": "d60f1002-bdb6-499b-bf2a-21daea2db4d5",
   "metadata": {},
   "outputs": [],
   "source": [
    "# Why is it important to understand the level of measurement when analyzing data? Provide an\n",
    "# example to illustrate your answer."
   ]
  },
  {
   "cell_type": "code",
   "execution_count": 7,
   "id": "10b605c7-9a92-419e-bdca-456ff7ac1600",
   "metadata": {},
   "outputs": [
    {
     "data": {
      "text/plain": [
       "'\\nAns. Understanding the level of measurement is crucial in data analysis because it determines the appropriate\\n     statistical techniques, summary statistics, and inferences that can be applied to the data. Different levels \\n     of measurement have different properties, and using inappropriate statistical methods can lead to inaccurate \\n     conclusions or misinterpretations of the data.\\n'"
      ]
     },
     "execution_count": 7,
     "metadata": {},
     "output_type": "execute_result"
    }
   ],
   "source": [
    "\"\"\"\n",
    "Ans. Understanding the level of measurement is crucial in data analysis because it determines the appropriate\n",
    "     statistical techniques, summary statistics, and inferences that can be applied to the data. Different levels \n",
    "     of measurement have different properties, and using inappropriate statistical methods can lead to inaccurate \n",
    "     conclusions or misinterpretations of the data.\n",
    "\"\"\""
   ]
  },
  {
   "cell_type": "code",
   "execution_count": 8,
   "id": "2680dbfd-eb46-4491-af50-1306bb686f21",
   "metadata": {},
   "outputs": [],
   "source": [
    "# How nominal data type is different from ordinal data type."
   ]
  },
  {
   "cell_type": "code",
   "execution_count": 9,
   "id": "2b11ddae-b200-4a9b-8a3c-97a98559a7f6",
   "metadata": {},
   "outputs": [
    {
     "data": {
      "text/plain": [
       "'\\nAns. Ordering:\\n\\n        Nominal data: No meaningful order among categories.\\n        Ordinal data: Categories have a meaningful order.\\n\\n     Intervals:\\n\\n        Nominal data: No intervals between categories.\\n        Ordinal data: Intervals between categories are not consistent or precisely defined.\\n'"
      ]
     },
     "execution_count": 9,
     "metadata": {},
     "output_type": "execute_result"
    }
   ],
   "source": [
    "\"\"\"\n",
    "Ans. Ordering:\n",
    "\n",
    "        Nominal data: No meaningful order among categories.\n",
    "        Ordinal data: Categories have a meaningful order.\n",
    "\n",
    "     Intervals:\n",
    "\n",
    "        Nominal data: No intervals between categories.\n",
    "        Ordinal data: Intervals between categories are not consistent or precisely defined.\n",
    "\"\"\""
   ]
  },
  {
   "cell_type": "code",
   "execution_count": 10,
   "id": "8800656b-e3c0-4887-b913-9431d7626034",
   "metadata": {},
   "outputs": [],
   "source": [
    "# Which type of plot can be used to display data in terms of range?"
   ]
  },
  {
   "cell_type": "code",
   "execution_count": 11,
   "id": "7bdffa9e-4981-4543-b7b1-a247c74fb765",
   "metadata": {},
   "outputs": [
    {
     "data": {
      "text/plain": [
       "'\\nAns. A box plot, also known as a box-and-whisker plot, is commonly used to display data in terms of range.\\n     A box plot provides a visual representation of the distribution, central tendency, and spread of a dataset.\\n'"
      ]
     },
     "execution_count": 11,
     "metadata": {},
     "output_type": "execute_result"
    }
   ],
   "source": [
    "\"\"\"\n",
    "Ans. A box plot, also known as a box-and-whisker plot, is commonly used to display data in terms of range.\n",
    "     A box plot provides a visual representation of the distribution, central tendency, and spread of a dataset.\n",
    "\"\"\""
   ]
  },
  {
   "cell_type": "code",
   "execution_count": 12,
   "id": "631cc7cb-c1ed-4f40-be1e-22a710366769",
   "metadata": {},
   "outputs": [],
   "source": [
    "# Describe the difference between descriptive and inferential statistics. Give an example of each\n",
    "# type of statistics and explain how they are used."
   ]
  },
  {
   "cell_type": "code",
   "execution_count": 13,
   "id": "08a9b488-2f5d-4380-a8a1-4961a2552b3f",
   "metadata": {},
   "outputs": [
    {
     "data": {
      "text/plain": [
       "'\\nAns.  Descriptive statistics: Descriptive statistics involve summarizing, organizing, and presenting data in a meaningful way. These statistics \\n      describe the main features of a dataset without making inferences or generalizations about a larger population.\\n      \\n      Example: Calculating the mean, median, and standard deviation of the exam scores in a class.\\n      \\n      Inferential statistics involve making inferences, predictions, or generalizations about a population based on\\n      a sample of data. It extends the findings from a smaller group (sample) to a larger group (population).\\n      \\n      Example: Conducting a hypothesis test to determine if a new teaching method\\n'"
      ]
     },
     "execution_count": 13,
     "metadata": {},
     "output_type": "execute_result"
    }
   ],
   "source": [
    "\"\"\"\n",
    "Ans.  Descriptive statistics: Descriptive statistics involve summarizing, organizing, and presenting data in a meaningful way. These statistics \n",
    "      describe the main features of a dataset without making inferences or generalizations about a larger population.\n",
    "      \n",
    "      Example: Calculating the mean, median, and standard deviation of the exam scores in a class.\n",
    "      \n",
    "      Inferential statistics involve making inferences, predictions, or generalizations about a population based on\n",
    "      a sample of data. It extends the findings from a smaller group (sample) to a larger group (population).\n",
    "      \n",
    "      Example: Conducting a hypothesis test to determine if a new teaching method\n",
    "\"\"\""
   ]
  },
  {
   "cell_type": "code",
   "execution_count": 14,
   "id": "3d63b586-1109-4807-a306-52ae3e41a9d2",
   "metadata": {},
   "outputs": [],
   "source": [
    "# What are some common measures of central tendency and variability used in statistics? Explain\n",
    "# how each measure can be used to describe a dataset."
   ]
  },
  {
   "cell_type": "code",
   "execution_count": 15,
   "id": "42596f8f-0b36-489e-a0ed-d195e98ee465",
   "metadata": {},
   "outputs": [
    {
     "data": {
      "text/plain": [
       "'\\nAns. Measures of central tendency and variability are essential tools in statistics for summarizing and understanding \\n     datasets. The mean, or average, provides a measure of the central location of the data by calculating the sum of \\n     all values divided by the number of values. The median, representing the middle value of a dataset when ordered, \\n     is less sensitive to extreme values than the mean. Mode identifies the most frequently occurring value(s) in the\\n     dataset, offering insight into the most common elements. \\n'"
      ]
     },
     "execution_count": 15,
     "metadata": {},
     "output_type": "execute_result"
    }
   ],
   "source": [
    "\"\"\"\n",
    "Ans. Measures of central tendency and variability are essential tools in statistics for summarizing and understanding \n",
    "     datasets. The mean, or average, provides a measure of the central location of the data by calculating the sum of \n",
    "     all values divided by the number of values. The median, representing the middle value of a dataset when ordered, \n",
    "     is less sensitive to extreme values than the mean. Mode identifies the most frequently occurring value(s) in the\n",
    "     dataset, offering insight into the most common elements. \n",
    "\"\"\""
   ]
  },
  {
   "cell_type": "code",
   "execution_count": null,
   "id": "67975ae7-0c77-4a49-a1d4-bc96310c5168",
   "metadata": {},
   "outputs": [],
   "source": []
  }
 ],
 "metadata": {
  "kernelspec": {
   "display_name": "Python 3 (ipykernel)",
   "language": "python",
   "name": "python3"
  },
  "language_info": {
   "codemirror_mode": {
    "name": "ipython",
    "version": 3
   },
   "file_extension": ".py",
   "mimetype": "text/x-python",
   "name": "python",
   "nbconvert_exporter": "python",
   "pygments_lexer": "ipython3",
   "version": "3.10.8"
  }
 },
 "nbformat": 4,
 "nbformat_minor": 5
}
