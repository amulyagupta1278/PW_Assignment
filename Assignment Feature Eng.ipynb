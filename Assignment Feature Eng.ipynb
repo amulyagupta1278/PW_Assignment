{
 "cells": [
  {
   "cell_type": "code",
   "execution_count": 1,
   "id": "fa5595f5-e692-4ea0-9871-d3fee062c8e5",
   "metadata": {},
   "outputs": [],
   "source": [
    "# What is the Filter method in feature selection, and how does it work?"
   ]
  },
  {
   "cell_type": "code",
   "execution_count": 3,
   "id": "e5254fcf-6109-4ace-b0c3-ca74e7eb2e7b",
   "metadata": {},
   "outputs": [
    {
     "data": {
      "text/plain": [
       "'\\nAns. The Filter method refers to a type of approach where features (variables) are selected based on their\\n     statistical characteristics with respect to the target variable, independent of any machine learning\\n     algorithms\\n     \\n     Calculate Statistical Measure\\n     Rank Features\\n     Select Features\\n     \\n     In practice, the Filter method serves as an initial step in feature selection, providing a quick and \\n     efficient way to reduce the dimensionality of the dataset before applying more complex and \\n     computationally intensive methods if needed.\\n\\n'"
      ]
     },
     "execution_count": 3,
     "metadata": {},
     "output_type": "execute_result"
    }
   ],
   "source": [
    "\"\"\"\n",
    "Ans. The Filter method refers to a type of approach where features (variables) are selected based on their\n",
    "     statistical characteristics with respect to the target variable, independent of any machine learning\n",
    "     algorithms\n",
    "     \n",
    "     Calculate Statistical Measure\n",
    "     Rank Features\n",
    "     Select Features\n",
    "     \n",
    "     In practice, the Filter method serves as an initial step in feature selection, providing a quick and \n",
    "     efficient way to reduce the dimensionality of the dataset before applying more complex and \n",
    "     computationally intensive methods if needed.\n",
    "\n",
    "\"\"\""
   ]
  },
  {
   "cell_type": "code",
   "execution_count": 4,
   "id": "7d9a9a85-cc19-468c-991a-19cb6081af9d",
   "metadata": {},
   "outputs": [],
   "source": [
    "# How does the Wrapper method differ from the Filter method in feature selection?"
   ]
  },
  {
   "cell_type": "code",
   "execution_count": 6,
   "id": "2e50a162-0268-4e02-b1c1-f5568bffa3ae",
   "metadata": {},
   "outputs": [
    {
     "data": {
      "text/plain": [
       "'\\nAns. Wrapper Method: Evaluation Based on Model Performance: The Wrapper method evaluates subsets of features \\n     based on the performance of a specific machine learning algorithm. Iterative Process: It involves a \\n     search through different combinations of features, typically using a search strategy like forward \\n     selection, backward elimination, or recursive feature elimination (RFE). Model Training: For each subset\\n     of features being evaluated, a predictive model is trained and evaluated using cross-validation or a \\n     similar technique to estimate its performance.\\n     \\n     Key Differences:\\n\\n     1) Dependence on Model\\n     2) Computational Cost\\n     3) Optimality\\n     \\n'"
      ]
     },
     "execution_count": 6,
     "metadata": {},
     "output_type": "execute_result"
    }
   ],
   "source": [
    "\"\"\"\n",
    "Ans. Wrapper Method: Evaluation Based on Model Performance: The Wrapper method evaluates subsets of features \n",
    "     based on the performance of a specific machine learning algorithm. Iterative Process: It involves a \n",
    "     search through different combinations of features, typically using a search strategy like forward \n",
    "     selection, backward elimination, or recursive feature elimination (RFE). Model Training: For each subset\n",
    "     of features being evaluated, a predictive model is trained and evaluated using cross-validation or a \n",
    "     similar technique to estimate its performance.\n",
    "     \n",
    "     Key Differences:\n",
    "\n",
    "     1) Dependence on Model\n",
    "     2) Computational Cost\n",
    "     3) Optimality\n",
    "     \n",
    "\"\"\""
   ]
  },
  {
   "cell_type": "code",
   "execution_count": 7,
   "id": "12fa6b43-c386-4950-9464-93ffc454ac8f",
   "metadata": {},
   "outputs": [],
   "source": [
    "# What are some common techniques used in Embedded feature selection methods?"
   ]
  },
  {
   "cell_type": "code",
   "execution_count": 8,
   "id": "0f538313-d465-496d-a7eb-38e4798aaa7f",
   "metadata": {},
   "outputs": [
    {
     "data": {
      "text/plain": [
       "'\\nAns. Embedded feature selection methods integrate feature selection into the process of training the machine\\n     learning model itself. These methods automatically select the most relevant features during the model \\n     training process, based on certain criteria\\n     \\n     Common techniques for Embedded Feature Selection:\\n     \\n     1) Lasso Regression (L1 Regularization)\\n     2) Ridge Regression (L2 Regularization)\\n     3) Elastic Net Regression\\n     4) Recursive Feature Elimination \\n'"
      ]
     },
     "execution_count": 8,
     "metadata": {},
     "output_type": "execute_result"
    }
   ],
   "source": [
    "\"\"\"\n",
    "Ans. Embedded feature selection methods integrate feature selection into the process of training the machine\n",
    "     learning model itself. These methods automatically select the most relevant features during the model \n",
    "     training process, based on certain criteria\n",
    "     \n",
    "     Common techniques for Embedded Feature Selection:\n",
    "     \n",
    "     1) Lasso Regression (L1 Regularization)\n",
    "     2) Ridge Regression (L2 Regularization)\n",
    "     3) Elastic Net Regression\n",
    "     4) Recursive Feature Elimination \n",
    "\"\"\""
   ]
  },
  {
   "cell_type": "code",
   "execution_count": 10,
   "id": "d6ca8f2c-95d5-408a-83e5-92fb04968631",
   "metadata": {},
   "outputs": [],
   "source": [
    "# Q4. What are some drawbacks of using the Filter method for feature selection?"
   ]
  },
  {
   "cell_type": "code",
   "execution_count": 1,
   "id": "37b56ac8-7d17-4872-81e8-eb85b8be9dd7",
   "metadata": {},
   "outputs": [
    {
     "data": {
      "text/plain": [
       "'\\nAns. The Filter method is straightforward and computationally efficient for feature selection, it also comes with several \\n     drawbacks that may limit its effectiveness in certain scenarios:\\n\\n     Independence Assumption: Filter methods evaluate features based on their individual statistical properties \\n     (e.g., correlation with the target variable), assuming independence from other features.\\n     \\n     Selection Bias\\n     \\n     Threshold Sensitivity\\n     \\n     \\n'"
      ]
     },
     "execution_count": 1,
     "metadata": {},
     "output_type": "execute_result"
    }
   ],
   "source": [
    "\"\"\"\n",
    "Ans. The Filter method is straightforward and computationally efficient for feature selection, it also comes with several \n",
    "     drawbacks that may limit its effectiveness in certain scenarios:\n",
    "\n",
    "     Independence Assumption: Filter methods evaluate features based on their individual statistical properties \n",
    "     (e.g., correlation with the target variable), assuming independence from other features.\n",
    "     \n",
    "     Selection Bias\n",
    "     \n",
    "     Threshold Sensitivity\n",
    "     \n",
    "     \n",
    "\"\"\""
   ]
  },
  {
   "cell_type": "code",
   "execution_count": 2,
   "id": "8be89afe-75db-46ca-a45c-c32feb337c22",
   "metadata": {},
   "outputs": [],
   "source": [
    "# In which situations would you prefer using the Filter method over the Wrapper method for feature\n",
    "# selection?"
   ]
  },
  {
   "cell_type": "code",
   "execution_count": 3,
   "id": "14ab5255-f03f-470d-8c83-978fe4144741",
   "metadata": {},
   "outputs": [
    {
     "data": {
      "text/plain": [
       "'\\nAns. The choice between using the Filter method and the Wrapper method for feature selection depends on various factors, \\n     including the characteristics of the dataset, computational resources, and the specific goals of the modeling task.\\n     \\n     High Dimensionality\\n     Quick Initial Screening\\n     \\n'"
      ]
     },
     "execution_count": 3,
     "metadata": {},
     "output_type": "execute_result"
    }
   ],
   "source": [
    "\"\"\"\n",
    "Ans. The choice between using the Filter method and the Wrapper method for feature selection depends on various factors, \n",
    "     including the characteristics of the dataset, computational resources, and the specific goals of the modeling task.\n",
    "     \n",
    "     High Dimensionality\n",
    "     Quick Initial Screening\n",
    "     \n",
    "\"\"\""
   ]
  },
  {
   "cell_type": "code",
   "execution_count": 4,
   "id": "38b1b905-06c9-4586-abe6-ef4b031d01bd",
   "metadata": {},
   "outputs": [],
   "source": [
    "# In a telecom company, you are working on a project to develop a predictive model for customer churn.\n",
    "# You are unsure of which features to include in the model because the dataset contains several different\n",
    "# ones. Describe how you would choose the most pertinent attributes for the model using the Filter Method."
   ]
  },
  {
   "cell_type": "code",
   "execution_count": 5,
   "id": "48989204-1a59-4247-a31c-6a398f10ecf8",
   "metadata": {},
   "outputs": [
    {
     "data": {
      "text/plain": [
       "'\\nAns. The most pertinent attributes for predicting customer churn using the Filter method:\\n\\n     Understand the Dataset and Problem Context\\n     \\n     Define Metrics for Feature Relevance: Corelation\\n     \\n      Apply Filter Method Techniques\\n      \\n      Evaluate and Select Features\\n      \\n      Validate and Refine\\n'"
      ]
     },
     "execution_count": 5,
     "metadata": {},
     "output_type": "execute_result"
    }
   ],
   "source": [
    "\"\"\"\n",
    "Ans. The most pertinent attributes for predicting customer churn using the Filter method:\n",
    "\n",
    "     Understand the Dataset and Problem Context\n",
    "     \n",
    "     Define Metrics for Feature Relevance: Corelation\n",
    "     \n",
    "      Apply Filter Method Techniques\n",
    "      \n",
    "      Evaluate and Select Features\n",
    "      \n",
    "      Validate and Refine\n",
    "\"\"\""
   ]
  },
  {
   "cell_type": "code",
   "execution_count": 6,
   "id": "5c024807-4cd8-48f6-a13c-a7d7a349d859",
   "metadata": {},
   "outputs": [],
   "source": [
    "# You are working on a project to predict the outcome of a soccer match. You have a large dataset with\n",
    "# many features, including player statistics and team rankings. Explain how you would use the Embedded\n",
    "# method to select the most relevant features for the model."
   ]
  },
  {
   "cell_type": "code",
   "execution_count": 7,
   "id": "596cbf05-5274-4507-98e3-69d22dee1264",
   "metadata": {},
   "outputs": [
    {
     "data": {
      "text/plain": [
       "'\\nAns. The Embedded method for feature selection in the context of predicting soccer match outcomes involves integrating \\n     feature selection directly into the model training process. \\n     \\n        1) Lasso Regression (Linear Model with L1 Regularization)\\n\\n        2) Decision Tree with Ensemble methods\\n     \\n     Advantages of Embedded Methods\\n        1) Automatic Feature Selection\\n        2) Handles Complex Interactions\\n        3) Scalability\\n'"
      ]
     },
     "execution_count": 7,
     "metadata": {},
     "output_type": "execute_result"
    }
   ],
   "source": [
    "\"\"\"\n",
    "Ans. The Embedded method for feature selection in the context of predicting soccer match outcomes involves integrating \n",
    "     feature selection directly into the model training process. \n",
    "     \n",
    "        1) Lasso Regression (Linear Model with L1 Regularization)\n",
    "\n",
    "        2) Decision Tree with Ensemble methods\n",
    "     \n",
    "     Advantages of Embedded Methods\n",
    "        1) Automatic Feature Selection\n",
    "        2) Handles Complex Interactions\n",
    "        3) Scalability\n",
    "\"\"\""
   ]
  },
  {
   "cell_type": "code",
   "execution_count": 8,
   "id": "b6e1c082-f456-4fee-bc21-e91f987866ae",
   "metadata": {},
   "outputs": [],
   "source": [
    "# You are working on a project to predict the price of a house based on its features, such as size, location,\n",
    "# and age. You have a limited number of features, and you want to ensure that you select the most important\n",
    "# ones for the model. Explain how you would use the Wrapper method to select the best set of features for the\n",
    "# predictor."
   ]
  },
  {
   "cell_type": "code",
   "execution_count": null,
   "id": "2ab1b0b9-948c-4699-a624-de636a5cdc22",
   "metadata": {},
   "outputs": [],
   "source": [
    "\"\"\"\n",
    "Ans. The Wrapper method for feature selection in the context of predicting house prices involves evaluating subsets of \n",
    "     features based on the performance of a machine learning model.\n",
    "     \n",
    "     Initialization: Start with an empty set of selected features or with all features included, depending on whether you're \n",
    "     using forward selection or backward elimination.\n",
    "\n",
    "     Iteration: Iteratively evaluate subsets of features using cross-validation or a separate validation set. Train the model \n",
    "     with different combinations of features and evaluate their performance using the chosen performance metric.\n",
    "\n",
    "     Feature Addition/Removal: For forward selection, add one feature at a time based on improvement in performance metrics \n",
    "     until no further improvement is observed.\n",
    "\"\"\""
   ]
  }
 ],
 "metadata": {
  "kernelspec": {
   "display_name": "Python 3 (ipykernel)",
   "language": "python",
   "name": "python3"
  },
  "language_info": {
   "codemirror_mode": {
    "name": "ipython",
    "version": 3
   },
   "file_extension": ".py",
   "mimetype": "text/x-python",
   "name": "python",
   "nbconvert_exporter": "python",
   "pygments_lexer": "ipython3",
   "version": "3.10.8"
  }
 },
 "nbformat": 4,
 "nbformat_minor": 5
}
