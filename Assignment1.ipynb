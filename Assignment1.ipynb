{
 "cells": [
  {
   "cell_type": "code",
   "execution_count": 1,
   "id": "593f031a-2695-4ee9-a2ec-0e7d1a9fdc80",
   "metadata": {},
   "outputs": [
    {
     "name": "stdout",
     "output_type": "stream",
     "text": [
      "<class 'str'>\n",
      "<class 'list'>\n",
      "<class 'float'>\n",
      "<class 'tuple'>\n"
     ]
    }
   ],
   "source": [
    "\"Question 1\"\n",
    "x = \"String\"\n",
    "y = [\"a\", \"b\", \"c\"]\n",
    "z = 54.54\n",
    "w = (\"a\", \"b\", \"c\")\n",
    "print(type(x))\n",
    "print(type(y))\n",
    "print(type(z))\n",
    "print(type(w))"
   ]
  },
  {
   "cell_type": "code",
   "execution_count": 2,
   "id": "77f40ff0-35c0-4160-917f-4959e2df527e",
   "metadata": {},
   "outputs": [
    {
     "name": "stdout",
     "output_type": "stream",
     "text": [
      "<class 'str'>\n",
      "<class 'str'>\n",
      "<class 'list'>\n",
      "<class 'float'>\n"
     ]
    }
   ],
   "source": [
    "\"Question 2\"\n",
    "var1 = ''\n",
    "var2 = '[ DS , ML , Python]'\n",
    "var3 = [ 'DS' , 'ML' , 'Python' ]\n",
    "var4 = 1.\n",
    "print(type(var1))\n",
    "print(type(var2))\n",
    "print(type(var3))\n",
    "print(type(var4))"
   ]
  },
  {
   "cell_type": "code",
   "execution_count": 3,
   "id": "8ffc2079-f903-46ca-ade4-549de80faff6",
   "metadata": {},
   "outputs": [
    {
     "name": "stdout",
     "output_type": "stream",
     "text": [
      "Simple division: \n",
      "10.0\n",
      "Modulus:\n",
      "0\n",
      "Floor division:\n",
      "10\n",
      "Exponentiation:\n",
      "100000000000000000000\n"
     ]
    }
   ],
   "source": [
    "\"Question 3\"\n",
    "var1 = 100/10 # Simple Division\n",
    "var2 = 100%10 # Modulus\n",
    "var3 = 100//10 # Floor Division\n",
    "var4 = 100** 10 # Exponentiation\n",
    "\n",
    "print( \"Simple division: \")\n",
    "print(var1)\n",
    "print( \"Modulus:\")\n",
    "print((var2))\n",
    "print(\"Floor division:\")\n",
    "print((var3))\n",
    "print( \"Exponentiation:\")\n",
    "print((var4))\n"
   ]
  },
  {
   "cell_type": "code",
   "execution_count": 4,
   "id": "0adc5cf0-eb4b-473c-b6e1-e48561930f00",
   "metadata": {},
   "outputs": [
    {
     "name": "stdout",
     "output_type": "stream",
     "text": [
      "0\n",
      "1\n",
      "2.0\n",
      "[3, 4]\n",
      "(5, 6)\n",
      "7\n",
      "8\n",
      "9\n",
      "['a', 'b', 'c']\n",
      "(2, 'a', 262.262)\n"
     ]
    }
   ],
   "source": [
    "\"Question 4\"\n",
    "var1 = [0,'1', 2.0, [3,4], (5,6), 7 , \"8\", \"9\",['a','b','c'], (2,'a',262.262 )] # creation of list\n",
    "for x in var1:  # For loop \n",
    "    print(x)  # Print"
   ]
  },
  {
   "cell_type": "code",
   "execution_count": 6,
   "id": "e98069a1-6a7d-4648-a3ef-2d5e11631069",
   "metadata": {},
   "outputs": [
    {
     "name": "stdin",
     "output_type": "stream",
     "text": [
      "Enter the value of number A:  40\n",
      "Enter the value of number B:  2\n"
     ]
    },
    {
     "name": "stdout",
     "output_type": "stream",
     "text": [
      "Number A is divisible by number B 3 times.\n"
     ]
    }
   ],
   "source": [
    "\"Question 5\"\n",
    "A = int(input(\"Enter the value of number A: \"))\n",
    "B = int(input(\"Enter the value of number B: \"))\n",
    "\n",
    "count = 0\n",
    "\n",
    "while A % B == 0:\n",
    "    A = A / B\n",
    "    count += 1\n",
    "\n",
    "if count > 0:\n",
    "    print(f\"Number A is divisible by number B {count} times.\")\n",
    "else:\n",
    "    print(\"Number A is not divisible by number B.\")\n",
    "\n"
   ]
  },
  {
   "cell_type": "code",
   "execution_count": null,
   "id": "0e4f9986-9351-46a8-8e1f-7cdda18ef339",
   "metadata": {},
   "outputs": [],
   "source": [
    "\"Question 6\"\n",
    "var1 = [1,2,3,4,5,6,7,8,9,10,11,12,13,14,15,16,17,18,19,20,21,22,23,24,25]\n",
    "for x in var1:\n",
    "    if( x%3 == 0):\n",
    "        print(x)\n",
    "        print(\"Divisible by 3\")\n",
    "    else:\n",
    "        print(x)\n",
    "        print(\"Not Divisible by 3\")\n",
    "        "
   ]
  },
  {
   "cell_type": "code",
   "execution_count": 12,
   "id": "cfb81a5e-263a-4acd-a06c-497080bfb319",
   "metadata": {},
   "outputs": [
    {
     "name": "stdout",
     "output_type": "stream",
     "text": [
      "List\n",
      "[4, 2, 3]\n",
      "Dictionaries\n",
      "{'a': 3, 'b': 2}\n",
      "Tuple\n",
      "(1, 2, 3) (1, 2, 3, 4, 5)\n"
     ]
    }
   ],
   "source": [
    "\"Question 7\"\n",
    "\"Mutable Data Types:\"\n",
    "\"Mutable data types are those that can be modified or changed after they are created. This means that you can alter their state, add, remove, or update elements without creating a new object.\"\n",
    "\"Examples are List, Dictionaries\"\n",
    "print(\"List\")\n",
    "var1 = [1, 2, 3]\n",
    "var1[0] = 4\n",
    "print(var1)  # The output will be 4,2,3\n",
    "\n",
    "print(\"Dictionaries\")\n",
    "var2 = {'a': 1, 'b': 2}\n",
    "var2['a'] = 3\n",
    "print(var2)  # The output will be {'a': 3, 'b': 2}\n",
    "\n",
    "\"Imutable Data Types:\"\n",
    "\"Immutable data types are those whose values cannot be changed after they are created. If you want to modify an immutable object, you need to create a new object with the desired changes\"\n",
    "\" Example are String and Tuple\"\n",
    "print(\"Tuple\")\n",
    "var3 = (1, 2, 3)\n",
    "var4 = var3 + (4, 5)\n",
    "print(var3,var4)  # The output will be (1, 2, 3, 4, 5)\n",
    "\n"
   ]
  },
  {
   "cell_type": "code",
   "execution_count": null,
   "id": "a4088806-c054-4568-bebe-cd29b78ec18e",
   "metadata": {},
   "outputs": [],
   "source": []
  }
 ],
 "metadata": {
  "kernelspec": {
   "display_name": "Python 3 (ipykernel)",
   "language": "python",
   "name": "python3"
  },
  "language_info": {
   "codemirror_mode": {
    "name": "ipython",
    "version": 3
   },
   "file_extension": ".py",
   "mimetype": "text/x-python",
   "name": "python",
   "nbconvert_exporter": "python",
   "pygments_lexer": "ipython3",
   "version": "3.10.8"
  }
 },
 "nbformat": 4,
 "nbformat_minor": 5
}
