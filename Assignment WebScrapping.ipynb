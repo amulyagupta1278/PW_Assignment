{
 "cells": [
  {
   "cell_type": "code",
   "execution_count": 1,
   "id": "41ad0b88-321d-4abe-b7e2-a2172f78e8be",
   "metadata": {},
   "outputs": [],
   "source": [
    "# What is Web Scraping? Why is it Used? Give three areas where Web Scraping is used to get data."
   ]
  },
  {
   "cell_type": "code",
   "execution_count": 4,
   "id": "63a70bca-abde-4f57-b2db-bf10fa8e8713",
   "metadata": {},
   "outputs": [
    {
     "data": {
      "text/plain": [
       "\"\\nAns. Web scraping is a technique used to extract data from websites. It involves retrieving and parsing HTML or other\\n    markup languages used in web pages to extract useful information. Web scraping is commonly performed using automated \\n    tools or bots, which simulate human interaction with websites to collect data.\\n    \\n    Web scraping is a powerful tool for automating data collection from the internet, but it's essential to use it \\n    responsibly and ethically. \\n    \\n    WebScrapping is used for:\\n    1) Business Intelligence and Market Research\\n    2) Price Comparision\\n    3) Content Aggregation and News Monitoring\\n    \\n    \\n\""
      ]
     },
     "execution_count": 4,
     "metadata": {},
     "output_type": "execute_result"
    }
   ],
   "source": [
    "\"\"\"\n",
    "Ans. Web scraping is a technique used to extract data from websites. It involves retrieving and parsing HTML or other\n",
    "    markup languages used in web pages to extract useful information. Web scraping is commonly performed using automated \n",
    "    tools or bots, which simulate human interaction with websites to collect data.\n",
    "    \n",
    "    Web scraping is a powerful tool for automating data collection from the internet, but it's essential to use it \n",
    "    responsibly and ethically. \n",
    "    \n",
    "    WebScrapping is used for:\n",
    "    1) Business Intelligence and Market Research\n",
    "    2) Price Comparision\n",
    "    3) Content Aggregation and News Monitoring\n",
    "    \n",
    "    \n",
    "\"\"\""
   ]
  },
  {
   "cell_type": "code",
   "execution_count": 5,
   "id": "491e1722-6b07-4a07-a5ce-1058b8d944c9",
   "metadata": {},
   "outputs": [],
   "source": [
    "# What are the different methods used for Web Scraping?"
   ]
  },
  {
   "cell_type": "code",
   "execution_count": 7,
   "id": "b57ed483-cb04-4224-addc-1601819a2c0b",
   "metadata": {},
   "outputs": [
    {
     "data": {
      "text/plain": [
       "'\\nAns. Web scraping can be done using various methods, and the choice of method often depends on the complexity of the\\n     website, the amount of data to be extracted, and the specific requirements of the scraping task\\n     \\n     Most common method for web scrapping:\\n     \\n     1) Manual Copy-Pasting\\n     2) HTML Parsing with Libraries\\n     3) WebScrapping Framework\\n     4) Machine Learning-based Scraping\\n'"
      ]
     },
     "execution_count": 7,
     "metadata": {},
     "output_type": "execute_result"
    }
   ],
   "source": [
    "\"\"\"\n",
    "Ans. Web scraping can be done using various methods, and the choice of method often depends on the complexity of the\n",
    "     website, the amount of data to be extracted, and the specific requirements of the scraping task\n",
    "     \n",
    "     Most common method for web scrapping:\n",
    "     \n",
    "     1) Manual Copy-Pasting\n",
    "     2) HTML Parsing with Libraries\n",
    "     3) WebScrapping Framework\n",
    "     4) Machine Learning-based Scraping\n",
    "\"\"\""
   ]
  },
  {
   "cell_type": "code",
   "execution_count": 8,
   "id": "4f4a6fb6-d306-4742-a4d7-d6a591139962",
   "metadata": {},
   "outputs": [],
   "source": [
    "# What is Beautiful Soup? Why is it used?"
   ]
  },
  {
   "cell_type": "code",
   "execution_count": 9,
   "id": "8474f99d-2466-469c-9bb2-becd561da32a",
   "metadata": {},
   "outputs": [
    {
     "data": {
      "text/plain": [
       "'\\nAns. Beautiful Soup is a Python library that is used for web scraping purposes to pull the data out of HTML and XML files.\\n     It provides Pythonic idioms for iterating, searching, and modifying the parse tree. \\n     \\n     Uses for Beautiful Soup:\\n     \\n     1) Easy Parsing of HTML and XML \\n     2) Handles Malformed HTML\\n     3) Transforming and Modifying HTML\\n'"
      ]
     },
     "execution_count": 9,
     "metadata": {},
     "output_type": "execute_result"
    }
   ],
   "source": [
    "\"\"\"\n",
    "Ans. Beautiful Soup is a Python library that is used for web scraping purposes to pull the data out of HTML and XML files.\n",
    "     It provides Pythonic idioms for iterating, searching, and modifying the parse tree. \n",
    "     \n",
    "     Uses for Beautiful Soup:\n",
    "     \n",
    "     1) Easy Parsing of HTML and XML \n",
    "     2) Handles Malformed HTML\n",
    "     3) Transforming and Modifying HTML\n",
    "\"\"\""
   ]
  },
  {
   "cell_type": "code",
   "execution_count": 10,
   "id": "593e7764-ce1e-4eed-98aa-0e158213bd3f",
   "metadata": {},
   "outputs": [],
   "source": [
    "# Why is flask used in this Web Scraping project?"
   ]
  },
  {
   "cell_type": "code",
   "execution_count": 11,
   "id": "ff714d9c-0895-440e-a914-c85faa9ede8e",
   "metadata": {},
   "outputs": [
    {
     "data": {
      "text/plain": [
       "'\\nAns. Flask is a lightweight web framework for Python that is commonly used for building web applications. In the context \\n     of a web scraping project, Flask might be used for several reasons:\\n     \\n     1) Creating a Web Interface\\n     2) Data Presentation\\n     3) Scalability\\n'"
      ]
     },
     "execution_count": 11,
     "metadata": {},
     "output_type": "execute_result"
    }
   ],
   "source": [
    "\"\"\"\n",
    "Ans. Flask is a lightweight web framework for Python that is commonly used for building web applications. In the context \n",
    "     of a web scraping project, Flask might be used for several reasons:\n",
    "     \n",
    "     1) Creating a Web Interface\n",
    "     2) Data Presentation\n",
    "     3) Scalability\n",
    "\"\"\""
   ]
  },
  {
   "cell_type": "code",
   "execution_count": 12,
   "id": "cb37a2eb-8220-4082-a8d9-21a3fea2e0a4",
   "metadata": {},
   "outputs": [],
   "source": [
    "# Write the names of AWS services used in this project. Also, explain the use of each service. "
   ]
  },
  {
   "cell_type": "code",
   "execution_count": 13,
   "id": "654a43b7-d29e-4f30-8f5c-65cc6332c617",
   "metadata": {},
   "outputs": [
    {
     "data": {
      "text/plain": [
       "'\\nAns. In a web scraping project, especially one involving data storage, processing, and potentially deployment, various\\n     AWS (Amazon Web Services) services may be used. The specific services depend on the requirements and architecture \\n     of the project. \\n'"
      ]
     },
     "execution_count": 13,
     "metadata": {},
     "output_type": "execute_result"
    }
   ],
   "source": [
    "\"\"\"\n",
    "Ans. In a web scraping project, especially one involving data storage, processing, and potentially deployment, various\n",
    "     AWS (Amazon Web Services) services may be used. The specific services depend on the requirements and architecture \n",
    "     of the project. \n",
    "     \n",
    "     1) Amazon EC2 (Elastic Compute Cloud)\n",
    "     2) Amazon S3 (Simple Storage Service)\n",
    "     3) Amazon API Gateway\n",
    "\"\"\""
   ]
  },
  {
   "cell_type": "code",
   "execution_count": null,
   "id": "4a5943be-430f-449b-9cd2-a02e24d302b5",
   "metadata": {},
   "outputs": [],
   "source": []
  }
 ],
 "metadata": {
  "kernelspec": {
   "display_name": "Python 3 (ipykernel)",
   "language": "python",
   "name": "python3"
  },
  "language_info": {
   "codemirror_mode": {
    "name": "ipython",
    "version": 3
   },
   "file_extension": ".py",
   "mimetype": "text/x-python",
   "name": "python",
   "nbconvert_exporter": "python",
   "pygments_lexer": "ipython3",
   "version": "3.10.8"
  }
 },
 "nbformat": 4,
 "nbformat_minor": 5
}
