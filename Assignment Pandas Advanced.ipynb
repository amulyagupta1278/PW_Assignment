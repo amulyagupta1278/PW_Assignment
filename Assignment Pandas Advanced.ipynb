{
 "cells": [
  {
   "cell_type": "code",
   "execution_count": 1,
   "id": "b56fe01f-f89b-4a9e-9f9e-4a71cfc775a0",
   "metadata": {},
   "outputs": [],
   "source": [
    "# List any five functions of the pandas library with execution."
   ]
  },
  {
   "cell_type": "code",
   "execution_count": 2,
   "id": "39ba0bc7-0222-42c3-aa26-2eb5c26ec39b",
   "metadata": {},
   "outputs": [
    {
     "data": {
      "text/plain": [
       "'\\nAns. Five functions of the pandas: \\n\\n     1) read_csv()\\n     2) head()\\n     3) tail()\\n     4) groupBy()\\n     5) merge()\\n'"
      ]
     },
     "execution_count": 2,
     "metadata": {},
     "output_type": "execute_result"
    }
   ],
   "source": [
    "\"\"\"\n",
    "Ans. Five functions of the pandas: \n",
    "\n",
    "     1) read_csv()\n",
    "     2) head()\n",
    "     3) tail()\n",
    "     4) groupBy()\n",
    "     5) merge()\n",
    "\"\"\""
   ]
  },
  {
   "cell_type": "code",
   "execution_count": 3,
   "id": "1263ddae-cf28-441e-afe0-6b5ed20f90e5",
   "metadata": {},
   "outputs": [],
   "source": [
    "# Given a Pandas DataFrame df with columns 'A', 'B', and 'C', write a Python function to re-index the\n",
    "#  DataFrame with a new index that starts from 1 and increments by 2 for each row."
   ]
  },
  {
   "cell_type": "code",
   "execution_count": 4,
   "id": "8b374bcf-b258-4049-8def-b6103b5322db",
   "metadata": {},
   "outputs": [
    {
     "name": "stdout",
     "output_type": "stream",
     "text": [
      "    A   B   C\n",
      "1  10  40  70\n",
      "3  20  50  80\n",
      "5  30  60  90\n"
     ]
    }
   ],
   "source": [
    "import pandas as pd\n",
    "\n",
    "def reindex_dataframe(df):\n",
    "    new_index = range(1, len(df) * 2, 2)\n",
    "    df_reindexed = df.set_index(pd.Index(new_index))\n",
    "    \n",
    "    return df_reindexed\n",
    "df = pd.DataFrame({'A': [10, 20, 30], 'B': [40, 50, 60], 'C': [70, 80, 90]})\n",
    "\n",
    "df_reindexed = reindex_dataframe(df)\n",
    "\n",
    "print(df_reindexed)\n"
   ]
  },
  {
   "cell_type": "code",
   "execution_count": 5,
   "id": "1b1f9793-36b7-410b-92b7-c34153b28e4d",
   "metadata": {},
   "outputs": [],
   "source": [
    "# You have a Pandas DataFrame df with a column named 'Values'. Write a Python function that\n",
    "# iterates over the DataFrame and calculates the sum of the first three values in the 'Values' column. The\n",
    "# function should print the sum to the console."
   ]
  },
  {
   "cell_type": "code",
   "execution_count": 6,
   "id": "9675728f-8e89-4d42-8515-0a1e511a0ad4",
   "metadata": {},
   "outputs": [
    {
     "name": "stdout",
     "output_type": "stream",
     "text": [
      "Sum of the first three values in 'Values' column: 60\n"
     ]
    }
   ],
   "source": [
    "import pandas as pd\n",
    "\n",
    "def sum_of_the_first(df):\n",
    "    \n",
    "    if df['Values'] is None:\n",
    "        print(\"The values are NULL in the Dataframe\")\n",
    "        return\n",
    "    \n",
    "    first_three_values = df['Values'].head(3)\n",
    "    \n",
    "    sum_of_first_three = first_three_values.sum()\n",
    "    \n",
    "    print(\"Sum of the first three values in 'Values' column:\", sum_of_first_three)\n",
    "\n",
    "df = pd.DataFrame({'Values': [10, 20, 30, 40, 50]})\n",
    " \n",
    "sum_of_the_first(df)    \n",
    "    "
   ]
  },
  {
   "cell_type": "code",
   "execution_count": 7,
   "id": "4f2241b8-8691-4e2e-8761-7dcc03f10a76",
   "metadata": {},
   "outputs": [],
   "source": [
    "# Given a Pandas DataFrame df with a column 'Text', write a Python function to create a new column\n",
    "# 'Word_Count' that contains the number of words in each row of the 'Text' column."
   ]
  },
  {
   "cell_type": "code",
   "execution_count": 8,
   "id": "6dbccb43-7f85-4f70-85f8-f3eb1aa248cb",
   "metadata": {},
   "outputs": [
    {
     "name": "stdout",
     "output_type": "stream",
     "text": [
      "                     Text  Word_Count\n",
      "0  This is a sample text.           5\n",
      "1   Count the words here.           4\n",
      "2        Another example.           2\n"
     ]
    }
   ],
   "source": [
    "import pandas as pd\n",
    "\n",
    "def count_words(text):\n",
    "    return len(str(text).split())\n",
    "\n",
    "def add_word_count_column(df):\n",
    "    if 'Text' not in df.columns:\n",
    "        print(\"Error: 'Text' column not found in the DataFrame.\")\n",
    "        return\n",
    "    \n",
    "    df['Word_Count'] = df['Text'].apply(count_words)\n",
    "\n",
    "df = pd.DataFrame({'Text': ['This is a sample text.', 'Count the words here.', 'Another example.']})\n",
    "\n",
    "add_word_count_column(df)\n",
    "\n",
    "print(df)\n"
   ]
  },
  {
   "cell_type": "code",
   "execution_count": 9,
   "id": "e207c31b-ce9f-4f71-8531-82a3eaa1c2b5",
   "metadata": {},
   "outputs": [],
   "source": [
    "# How are DataFrame.size() and DataFrame.shape() different?"
   ]
  },
  {
   "cell_type": "code",
   "execution_count": 10,
   "id": "4589e728-a8fd-458b-873c-40acf3de9388",
   "metadata": {},
   "outputs": [
    {
     "data": {
      "text/plain": [
       "'\\nAns. DataFrame.size(): The size attribute returns the total number of elements in the DataFrame, which is equivalent \\n     to the total number of cells (rows * columns). It returns a single value representing the total size of the DataFrame.\\n        \\n     DataFrame.shape(): The shape attribute returns a tuple representing the dimensions of the DataFrame.\\n     It provides the number of rows and columns in the DataFrame in the format \\n\\n'"
      ]
     },
     "execution_count": 10,
     "metadata": {},
     "output_type": "execute_result"
    }
   ],
   "source": [
    "\"\"\"\n",
    "Ans. DataFrame.size(): The size attribute returns the total number of elements in the DataFrame, which is equivalent \n",
    "     to the total number of cells (rows * columns). It returns a single value representing the total size of the DataFrame.\n",
    "        \n",
    "     DataFrame.shape(): The shape attribute returns a tuple representing the dimensions of the DataFrame.\n",
    "     It provides the number of rows and columns in the DataFrame in the format \n",
    "\n",
    "\"\"\""
   ]
  },
  {
   "cell_type": "code",
   "execution_count": 11,
   "id": "130f3e59-5e45-49cd-b9b2-38c1a3910a0e",
   "metadata": {},
   "outputs": [],
   "source": [
    "# Which function of pandas do we use to read an excel file?"
   ]
  },
  {
   "cell_type": "code",
   "execution_count": 12,
   "id": "4f7acb84-bec2-4b26-aedb-3a6c56371639",
   "metadata": {},
   "outputs": [
    {
     "data": {
      "text/plain": [
       "\"\\nAns. \\n\\nimport pandas as pd\\n\\ndf = pd.read_excel('your_file.xlsx')\\n\\nprint(df)\\n\\n\""
      ]
     },
     "execution_count": 12,
     "metadata": {},
     "output_type": "execute_result"
    }
   ],
   "source": [
    "\"\"\"\n",
    "Ans. \n",
    "\n",
    "import pandas as pd\n",
    "\n",
    "df = pd.read_excel('your_file.xlsx')\n",
    "\n",
    "print(df)\n",
    "\n",
    "\"\"\""
   ]
  },
  {
   "cell_type": "code",
   "execution_count": 13,
   "id": "2564d2e7-0ad6-443d-a49e-29632b12f360",
   "metadata": {},
   "outputs": [],
   "source": [
    "# You have a Pandas DataFrame df that contains a column named 'Email' that contains email\n",
    "# addresses in the format 'username@domain.com'. Write a Python function that creates a new column\n",
    "# 'Username' in df that contains only the username part of each email address."
   ]
  },
  {
   "cell_type": "code",
   "execution_count": 14,
   "id": "eecb8c00-9525-43da-8483-3d8f71a79110",
   "metadata": {},
   "outputs": [
    {
     "data": {
      "text/plain": [
       "0    user1\n",
       "1    user2\n",
       "2    user3\n",
       "Name: Username, dtype: object"
      ]
     },
     "execution_count": 14,
     "metadata": {},
     "output_type": "execute_result"
    }
   ],
   "source": [
    "import pandas as pd\n",
    "\n",
    "def username(df):\n",
    "    \n",
    "    if df['Email'] is None:\n",
    "        print(\"The dataframe is empty\")\n",
    "        return\n",
    "    df['Username'] = df['Email'].str.split('@').str[0]\n",
    "    \n",
    "    return df['Username']\n",
    "\n",
    "df = pd.DataFrame({'Email': ['user1@example.com', 'user2@example.com', 'user3@example.com']})\n",
    "\n",
    "username(df)\n",
    "\n",
    "\n",
    "\n"
   ]
  },
  {
   "cell_type": "code",
   "execution_count": 15,
   "id": "dbbe2094-f4bf-4b3c-a814-6c60cf93857b",
   "metadata": {},
   "outputs": [],
   "source": [
    "# You have a Pandas DataFrame df with columns 'A', 'B', and 'C'. Write a Python function that selects\n",
    "# all rows where the value in column 'A' is greater than 5 and the value in column 'B' is less than 10. The\n",
    "# function should return a new DataFrame that contains only the selected rows."
   ]
  },
  {
   "cell_type": "code",
   "execution_count": 16,
   "id": "a12ed8ea-9891-4228-8638-9a58403f26b9",
   "metadata": {},
   "outputs": [
    {
     "data": {
      "text/html": [
       "<div>\n",
       "<style scoped>\n",
       "    .dataframe tbody tr th:only-of-type {\n",
       "        vertical-align: middle;\n",
       "    }\n",
       "\n",
       "    .dataframe tbody tr th {\n",
       "        vertical-align: top;\n",
       "    }\n",
       "\n",
       "    .dataframe thead th {\n",
       "        text-align: right;\n",
       "    }\n",
       "</style>\n",
       "<table border=\"1\" class=\"dataframe\">\n",
       "  <thead>\n",
       "    <tr style=\"text-align: right;\">\n",
       "      <th></th>\n",
       "      <th>A</th>\n",
       "      <th>B</th>\n",
       "      <th>C</th>\n",
       "    </tr>\n",
       "  </thead>\n",
       "  <tbody>\n",
       "    <tr>\n",
       "      <th>0</th>\n",
       "      <td>6</td>\n",
       "      <td>5</td>\n",
       "      <td>1</td>\n",
       "    </tr>\n",
       "    <tr>\n",
       "      <th>1</th>\n",
       "      <td>8</td>\n",
       "      <td>7</td>\n",
       "      <td>3</td>\n",
       "    </tr>\n",
       "    <tr>\n",
       "      <th>3</th>\n",
       "      <td>10</td>\n",
       "      <td>2</td>\n",
       "      <td>7</td>\n",
       "    </tr>\n",
       "  </tbody>\n",
       "</table>\n",
       "</div>"
      ],
      "text/plain": [
       "    A  B  C\n",
       "0   6  5  1\n",
       "1   8  7  3\n",
       "3  10  2  7"
      ]
     },
     "execution_count": 16,
     "metadata": {},
     "output_type": "execute_result"
    }
   ],
   "source": [
    "import pandas as pd\n",
    "\n",
    "def rows(df):\n",
    "    \n",
    "    if 'A' not in df.columns or 'B' not in df.columns:\n",
    "        print(\"Error: Columns 'A' and 'B' must exist in the DataFrame.\")\n",
    "        return\n",
    "    selected_rows = df[(df['A'] > 5) & (df['B'] < 10)]\n",
    "    return selected_rows\n",
    "\n",
    "df = pd.DataFrame({'A': [6, 8, 4, 10], 'B': [5, 7, 9, 2], 'C': [1, 3, 5, 7]})\n",
    "\n",
    "rows(df)"
   ]
  },
  {
   "cell_type": "code",
   "execution_count": 17,
   "id": "e8544c80-d649-4e9c-b4d3-b078c65a609a",
   "metadata": {},
   "outputs": [],
   "source": [
    "# Given a Pandas DataFrame df with a column 'Values', write a Python function to calculate the mean,\n",
    "# median, and standard deviation of the values in the 'Values' column."
   ]
  },
  {
   "cell_type": "code",
   "execution_count": 18,
   "id": "e2330e8d-00b2-496b-9831-e4c2a6a2e997",
   "metadata": {},
   "outputs": [
    {
     "name": "stdout",
     "output_type": "stream",
     "text": [
      "{'Mean': 30.0, 'Median': 30.0, 'Standard Deviation': 15.811388300841896}\n"
     ]
    }
   ],
   "source": [
    "import pandas as pd\n",
    "\n",
    "\n",
    "def MathFunctions(df):\n",
    "    \n",
    "    if df['Values'] is None:\n",
    "        print(\"The values are null in the dataframe\")\n",
    "        return \n",
    "    mean_value = df['Values'].mean()\n",
    "    median_value = df['Values'].median()\n",
    "    std_deviation = df['Values'].std()\n",
    "    \n",
    "    statistics = {\n",
    "        'Mean': mean_value,\n",
    "        'Median': median_value,\n",
    "        'Standard Deviation': std_deviation\n",
    "    }\n",
    "    \n",
    "    return statistics\n",
    "\n",
    "df = pd.DataFrame({'Values': [10, 20, 30, 40, 50]})\n",
    "\n",
    "\n",
    "result = MathFunctions(df)\n",
    "\n",
    "\n",
    "print(result)\n",
    "\n",
    "\n",
    "    "
   ]
  },
  {
   "cell_type": "code",
   "execution_count": 19,
   "id": "b88fe70a-e89d-470e-9358-e406ee95b644",
   "metadata": {},
   "outputs": [],
   "source": [
    "# Given a Pandas DataFrame df with a column 'Sales' and a column 'Date', write a Python function to\n",
    "# create a new column 'MovingAverage' that contains the moving average of the sales for the past 7 days\n",
    "# for each row in the DataFrame. The moving average should be calculated using a window of size 7 and\n",
    "# should include the current day."
   ]
  },
  {
   "cell_type": "code",
   "execution_count": 20,
   "id": "78c2be09-901b-4e59-801c-e2affe591b9c",
   "metadata": {},
   "outputs": [
    {
     "name": "stdout",
     "output_type": "stream",
     "text": [
      "        Date  Sales  MovingAverage\n",
      "0 2023-01-01     10      10.000000\n",
      "1 2023-01-02     12      11.000000\n",
      "2 2023-01-03     15      12.333333\n",
      "3 2023-01-04      8      11.250000\n",
      "4 2023-01-05     20      13.000000\n",
      "5 2023-01-06     18      13.833333\n",
      "6 2023-01-07     22      15.000000\n"
     ]
    }
   ],
   "source": [
    "import pandas as pd\n",
    "\n",
    "def calculate_moving_average(df):\n",
    "    \n",
    "    if 'Sales' not in df.columns or 'Date' not in df.columns:\n",
    "        print(\"Error: 'Sales' and 'Date' columns must exist in the DataFrame.\")\n",
    "        return None\n",
    "\n",
    "    \n",
    "    df['Date'] = pd.to_datetime(df['Date'])\n",
    "    \n",
    "    \n",
    "    df.sort_values(by='Date', inplace=True)\n",
    "    \n",
    "    \n",
    "    df['MovingAverage'] = df['Sales'].rolling(window=7, min_periods=1).mean()\n",
    "\n",
    "    return df\n",
    "\n",
    "df = pd.DataFrame({\n",
    "    'Date': ['2023-01-01', '2023-01-02', '2023-01-03', '2023-01-04', '2023-01-05', '2023-01-06', '2023-01-07'],\n",
    "    'Sales': [10, 12, 15, 8, 20, 18, 22]\n",
    "})\n",
    "\n",
    "result_df = calculate_moving_average(df)\n",
    "\n",
    "\n",
    "print(result_df)\n"
   ]
  },
  {
   "cell_type": "code",
   "execution_count": 21,
   "id": "5c1f81a9-c998-4f66-9755-8b17dae3cb90",
   "metadata": {},
   "outputs": [],
   "source": [
    "# You have a Pandas DataFrame df with a column 'Date'. Write a Python function that creates a new\n",
    "# column 'Weekday' in the DataFrame. The 'Weekday' column should contain the weekday name (e.g.\n",
    "# Monday, Tuesday) corresponding to each date in the 'Date' column."
   ]
  },
  {
   "cell_type": "code",
   "execution_count": 22,
   "id": "e553b94e-ae9d-4041-8f77-cb1e96ba6801",
   "metadata": {},
   "outputs": [
    {
     "name": "stdout",
     "output_type": "stream",
     "text": [
      "        Date  Weekday\n",
      "0 2023-01-01   Sunday\n",
      "1 2023-01-02   Monday\n",
      "2 2023-01-03  Tuesday\n"
     ]
    }
   ],
   "source": [
    "import pandas as pd\n",
    "\n",
    "def add_weekday_column(df):\n",
    "    if 'Date' not in df.columns:\n",
    "        print(\"Error: 'Date' column not found in the DataFrame.\")\n",
    "        return None\n",
    "\n",
    "    df['Date'] = pd.to_datetime(df['Date'])\n",
    "    \n",
    "    df['Weekday'] = df['Date'].dt.day_name()\n",
    "\n",
    "    return df\n",
    "\n",
    "df = pd.DataFrame({'Date': ['2023-01-01', '2023-01-02', '2023-01-03']})\n",
    "\n",
    "result_df = add_weekday_column(df)\n",
    "\n",
    "print(result_df)\n"
   ]
  },
  {
   "cell_type": "code",
   "execution_count": 23,
   "id": "1c2d6200-3ea0-4b81-91be-dea5b8f0b122",
   "metadata": {},
   "outputs": [],
   "source": [
    "# Given a Pandas DataFrame df with a column 'Date' that contains timestamps, write a Python\n",
    "# function to select all rows where the date is between '2023-01-01' and '2023-01-31'."
   ]
  },
  {
   "cell_type": "code",
   "execution_count": 24,
   "id": "4ba21563-eacc-448e-805a-c8862dac5a04",
   "metadata": {},
   "outputs": [
    {
     "name": "stdout",
     "output_type": "stream",
     "text": [
      "        Date\n",
      "0 2023-01-01\n",
      "1 2023-01-15\n"
     ]
    }
   ],
   "source": [
    "import pandas as pd\n",
    "\n",
    "def select_rows_between_dates(df):\n",
    "    if 'Date' not in df.columns:\n",
    "        print(\"Error: 'Date' column not found in the DataFrame.\")\n",
    "        return None\n",
    "    \n",
    "    df['Date'] = pd.to_datetime(df['Date'])\n",
    "    \n",
    "    selected_rows = df[(df['Date'] >= '2023-01-01') & (df['Date'] <= '2023-01-31')]\n",
    "    \n",
    "    return selected_rows\n",
    "\n",
    "df = pd.DataFrame({'Date': ['2023-01-01', '2023-01-15', '2023-02-01', '2023-02-15']})\n",
    "\n",
    "result_df = select_rows_between_dates(df)\n",
    "\n",
    "print(result_df)\n"
   ]
  },
  {
   "cell_type": "code",
   "execution_count": 25,
   "id": "e9a89c51-330c-4cad-aedd-4a59ddd87f9d",
   "metadata": {},
   "outputs": [],
   "source": [
    "# To use the basic functions of pandas, what is the first and foremost necessary library that needs to\n",
    "# be imported?"
   ]
  },
  {
   "cell_type": "code",
   "execution_count": 26,
   "id": "3a60b199-33ad-422f-8038-f5b40c4450f6",
   "metadata": {},
   "outputs": [
    {
     "data": {
      "text/plain": [
       "\"\\nAns. To use the basic functions of Pandas, you need to import the Pandas library\\n     \\n     import pandas as pd\\n     \\n     This line imports the Pandas library and assigns it the alias 'pd,' which is a common convention among the \\n     Pandas community. Using the 'pd' alias, you can then access Pandas functions and classes. \\n\""
      ]
     },
     "execution_count": 26,
     "metadata": {},
     "output_type": "execute_result"
    }
   ],
   "source": [
    "\"\"\"\n",
    "Ans. To use the basic functions of Pandas, you need to import the Pandas library\n",
    "     \n",
    "     import pandas as pd\n",
    "     \n",
    "     This line imports the Pandas library and assigns it the alias 'pd,' which is a common convention among the \n",
    "     Pandas community. Using the 'pd' alias, you can then access Pandas functions and classes. \n",
    "\"\"\""
   ]
  }
 ],
 "metadata": {
  "kernelspec": {
   "display_name": "Python 3 (ipykernel)",
   "language": "python",
   "name": "python3"
  },
  "language_info": {
   "codemirror_mode": {
    "name": "ipython",
    "version": 3
   },
   "file_extension": ".py",
   "mimetype": "text/x-python",
   "name": "python",
   "nbconvert_exporter": "python",
   "pygments_lexer": "ipython3",
   "version": "3.10.8"
  }
 },
 "nbformat": 4,
 "nbformat_minor": 5
}
