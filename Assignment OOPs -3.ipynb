{
 "cells": [
  {
   "cell_type": "code",
   "execution_count": 1,
   "id": "9a9e68c3-8790-42a5-a247-e399c1d862e9",
   "metadata": {},
   "outputs": [],
   "source": [
    "# What is Abstraction in OOps? Explain with an example."
   ]
  },
  {
   "cell_type": "code",
   "execution_count": 8,
   "id": "a3e85970-82ec-420a-a75d-b3af09026b9b",
   "metadata": {},
   "outputs": [
    {
     "data": {
      "text/plain": [
       "<__main__.Lion at 0x7fccb6f93400>"
      ]
     },
     "execution_count": 8,
     "metadata": {},
     "output_type": "execute_result"
    }
   ],
   "source": [
    "\"\"\"\n",
    "Ans: Abstraction: Abstraction is the process of simplifying complex reality by modeling classes based on their essential characteristics and ignoring non-essential details.\n",
    "\"\"\"\n",
    "class Animal:\n",
    "    def __init__(self, name):\n",
    "        self.name = name\n",
    "\n",
    "    def make_sound(self):\n",
    "        pass  # This method is abstract and will be overridden in subclasses\n",
    "\n",
    "\n",
    "class Lion(Animal):\n",
    "    def make_sound(self):\n",
    "        return \"Roar\"\n",
    "\n",
    "Lion(Animal)"
   ]
  },
  {
   "cell_type": "code",
   "execution_count": 9,
   "id": "7f9de7cd-50d8-4d08-b4ae-5f14bad6c3ef",
   "metadata": {},
   "outputs": [],
   "source": [
    "# Q2. Differentiate between Abstraction and Encapsulation. Explain with an example."
   ]
  },
  {
   "cell_type": "code",
   "execution_count": 11,
   "id": "6846b99d-72f5-4d68-9ddb-f48c73152f63",
   "metadata": {},
   "outputs": [
    {
     "data": {
      "text/plain": [
       "'\\nAns: Abstraction and encapsulation are two important concepts in object-oriented programming, but they serve different purposes and have distinct characteristics.\\n'"
      ]
     },
     "execution_count": 11,
     "metadata": {},
     "output_type": "execute_result"
    }
   ],
   "source": [
    "\"\"\"\n",
    "Ans: Abstraction and encapsulation are two important concepts in object-oriented programming, but they serve different purposes and have distinct characteristics.\n",
    "     \n",
    "     Abstraction:  Abstraction is to simplify the complex reality by modeling classes based on thier essesntial characteristics.  It is achieved through abstract classes and methods,\n",
    "     allowing you to define a blueprint or interface that must be implemented by concrete subclasses.\n",
    "     \n",
    "     Encapsulation: Encapsulation is about bundling the data (attributes) and methods (functions) that operate on that data into a single unit called a class. Encapsulation is implemented through classes,\n",
    "     where attributes are declared as private or protected and accessed through getter and setter methods.\n",
    "     \n",
    "\"\"\"\n",
    "class Person:\n",
    "    def __init__(self, name, age, address):\n",
    "        self.__name = name  # Private attribute\n",
    "        self.__age = age    # Private attribute\n",
    "        self.__address = address  # Private attribute\n",
    "\n",
    "    # Getter methods\n",
    "    def get_name(self):\n",
    "        return self.__name\n",
    "\n",
    "    def get_age(self):\n",
    "        return self.__age\n",
    "\n",
    "    def get_address(self):\n",
    "        return self.__address\n",
    "\n",
    "    # Setter methods\n",
    "    def set_name(self, name):\n",
    "        self.__name = name\n",
    "\n",
    "    def set_age(self, age):\n",
    "        self.__age = age\n",
    "\n",
    "    def set_address(self, address):\n",
    "        self.__address = address"
   ]
  },
  {
   "cell_type": "code",
   "execution_count": 12,
   "id": "822d164f-f368-491b-8288-353e93be87b0",
   "metadata": {},
   "outputs": [],
   "source": [
    "# What is abc module in python? Why is it used?"
   ]
  },
  {
   "cell_type": "code",
   "execution_count": 13,
   "id": "6362a504-af7f-4d37-bb6b-431fbab27ce8",
   "metadata": {},
   "outputs": [
    {
     "name": "stdout",
     "output_type": "stream",
     "text": [
      "Circle area: 78.5\n"
     ]
    }
   ],
   "source": [
    "\"\"\"\n",
    "Ans: The abc module in Python stands for \"Abstract Base Classes.\" It is a built-in module that provides a mechanism for defining abstract base classes and enforcing the implementation\n",
    "     of certain methods in subclasses. Abstract base classes are a way to define a common interface for a group of related classes, ensuring that specific methods are implemented in those classes.\n",
    "\"\"\"\n",
    "from abc import ABC, abstractmethod\n",
    "\n",
    "\n",
    "class Shape(ABC):\n",
    "    @abstractmethod\n",
    "    def area(self):\n",
    "        pass\n",
    "\n",
    "class Circle(Shape):\n",
    "    def __init__(self, radius):\n",
    "        self.radius = radius\n",
    "\n",
    "    def area(self):\n",
    "        return 3.14 * self.radius * self.radius\n",
    "\n",
    "circle = Circle(5)\n",
    "print(\"Circle area:\", circle.area())  "
   ]
  },
  {
   "cell_type": "code",
   "execution_count": 14,
   "id": "ad941b85-f233-4ea3-9d0c-2dad22e01a60",
   "metadata": {},
   "outputs": [],
   "source": [
    "# Q4. How can we achieve data abstraction?"
   ]
  },
  {
   "cell_type": "code",
   "execution_count": 15,
   "id": "6b286972-a6d9-4520-b816-edabba63b0e9",
   "metadata": {},
   "outputs": [
    {
     "name": "stdout",
     "output_type": "stream",
     "text": [
      "Account Balance: 1300\n"
     ]
    }
   ],
   "source": [
    "\"\"\"\n",
    "Ans: Data Abstraction involves hiding the complex implementation details of data and providing a simplified, well-defined interface for working with that data. Achieving data abstraction \n",
    "    typically involves encapsulation and the use of classes and objects. \n",
    "    \n",
    "\"\"\"\n",
    "\n",
    "class BankAccount:\n",
    "    def __init__(self, account_number, balance=0):\n",
    "        self.__account_number = account_number  # Private attribute\n",
    "        self.__balance = balance  # Private attribute\n",
    "\n",
    "    def deposit(self, amount):\n",
    "        if amount > 0:\n",
    "            self.__balance += amount\n",
    "\n",
    "    def withdraw(self, amount):\n",
    "        if amount > 0 and amount <= self.__balance:\n",
    "            self.__balance -= amount\n",
    "\n",
    "    def get_balance(self):\n",
    "        return self.__balance\n",
    "\n",
    "# Create an object of the BankAccount class\n",
    "account1 = BankAccount(\"12345\", 1000)\n",
    "\n",
    "# Perform operations on the account using public methods\n",
    "account1.deposit(500)\n",
    "account1.withdraw(200)\n",
    "\n",
    "# Retrieve and display the account balance\n",
    "print(\"Account Balance:\", account1.get_balance())"
   ]
  },
  {
   "cell_type": "code",
   "execution_count": 16,
   "id": "3237e069-acba-48cd-810e-34e1b865f35e",
   "metadata": {},
   "outputs": [],
   "source": [
    "# Q5. Can we create an instance of an abstract class? Explain your answer."
   ]
  },
  {
   "cell_type": "code",
   "execution_count": 20,
   "id": "17c306f0-e9d1-46ea-aa01-372627027cba",
   "metadata": {},
   "outputs": [
    {
     "ename": "TypeError",
     "evalue": "Can't instantiate abstract class AbstractClass with abstract method abstract_method",
     "output_type": "error",
     "traceback": [
      "\u001b[0;31m---------------------------------------------------------------------------\u001b[0m",
      "\u001b[0;31mTypeError\u001b[0m                                 Traceback (most recent call last)",
      "Cell \u001b[0;32mIn[20], line 10\u001b[0m\n\u001b[1;32m      7\u001b[0m     \u001b[38;5;129m@abstractmethod\u001b[39m\n\u001b[1;32m      8\u001b[0m     \u001b[38;5;28;01mdef\u001b[39;00m \u001b[38;5;21mabstract_method\u001b[39m(\u001b[38;5;28mself\u001b[39m):\n\u001b[1;32m      9\u001b[0m         \u001b[38;5;28;01mpass\u001b[39;00m\n\u001b[0;32m---> 10\u001b[0m abstract_instance \u001b[38;5;241m=\u001b[39m \u001b[43mAbstractClass\u001b[49m\u001b[43m(\u001b[49m\u001b[43m)\u001b[49m\n",
      "\u001b[0;31mTypeError\u001b[0m: Can't instantiate abstract class AbstractClass with abstract method abstract_method"
     ]
    }
   ],
   "source": [
    "\"\"\" Ans:  Attempting to create an instance of an abstract class will result in a TypeError. Abstract classes are meant to serve as blueprints for other classes\n",
    "     (concrete subclasses) and are not intended to be instantiated themselves.\n",
    "\"\"\"\n",
    "from abc import ABC\n",
    "\n",
    "class AbstractClass(ABC):\n",
    "    @abstractmethod\n",
    "    def abstract_method(self):\n",
    "        pass\n",
    "abstract_instance = AbstractClass()"
   ]
  },
  {
   "cell_type": "code",
   "execution_count": null,
   "id": "f85d1242-15c9-4957-9af6-fd1f9a0cf20e",
   "metadata": {},
   "outputs": [],
   "source": []
  }
 ],
 "metadata": {
  "kernelspec": {
   "display_name": "Python 3 (ipykernel)",
   "language": "python",
   "name": "python3"
  },
  "language_info": {
   "codemirror_mode": {
    "name": "ipython",
    "version": 3
   },
   "file_extension": ".py",
   "mimetype": "text/x-python",
   "name": "python",
   "nbconvert_exporter": "python",
   "pygments_lexer": "ipython3",
   "version": "3.10.8"
  }
 },
 "nbformat": 4,
 "nbformat_minor": 5
}
