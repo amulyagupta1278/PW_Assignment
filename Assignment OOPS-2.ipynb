{
 "cells": [
  {
   "cell_type": "code",
   "execution_count": 1,
   "id": "13ae5015-8ddf-4336-a278-1837d29a2ba9",
   "metadata": {},
   "outputs": [],
   "source": [
    "# Q1. Explain Class and Object with respect to Object-Oriented Programming. Give a suitable example."
   ]
  },
  {
   "cell_type": "code",
   "execution_count": 4,
   "id": "c1d9a582-cee2-49af-9282-3c5c2addb801",
   "metadata": {},
   "outputs": [
    {
     "name": "stdout",
     "output_type": "stream",
     "text": [
      "Alice says: Hello, how are you?\n",
      "Bob is eating pizza\n",
      "Alice is sleeping\n"
     ]
    }
   ],
   "source": [
    "\"\"\"\n",
    "Ans.\n",
    "\n",
    "Class:\n",
    "\n",
    "    A class is a blueprint or template for creating objects. It defines the attributes (data) and behaviors (methods) that objects of that class will have.\n",
    "    A class acts as a blueprint for creating multiple instances (objects) that share the same structure and behavior defined by the class.\n",
    "    It encapsulates the common properties and functionalities of a group of objects. \n",
    "    \"\"\"\n",
    "class Person:\n",
    "    def __init__(self, name, age, gender):\n",
    "        self.name = name\n",
    "        self.age = age\n",
    "        self.gender = gender\n",
    "\n",
    "    def speak(self, message):\n",
    "        print(f\"{self.name} says: {message}\")\n",
    "\n",
    "    def eat(self, food):\n",
    "        print(f\"{self.name} is eating {food}\")\n",
    "\n",
    "    def sleep(self):\n",
    "        print(f\"{self.name} is sleeping\")\n",
    "        \n",
    "\"\"\"Object:\n",
    "    An object is an instance of a class, created from the class blueprint. It represents a specific entity or concept, having its own data (attributes) and the ability to perform actions (methods) defined by the class.\n",
    "    Objects are real-world entities, and they can be used to interact with the program by invoking methods and accessing attributes.\"\"\"\n",
    "\n",
    "person1 = Person(\"Alice\", 30, \"Female\")\n",
    "person2 = Person(\"Bob\", 25, \"Male\")\n",
    "\n",
    "person1.speak(\"Hello, how are you?\")\n",
    "person2.eat(\"pizza\")\n",
    "person1.sleep()"
   ]
  },
  {
   "cell_type": "code",
   "execution_count": 1,
   "id": "975a8045-3078-43ed-a729-f2a4fd87e58a",
   "metadata": {},
   "outputs": [],
   "source": [
    "# Q2. Name the four pillars of OOPs."
   ]
  },
  {
   "cell_type": "code",
   "execution_count": 2,
   "id": "f52355a7-b685-43d0-89bc-208282e3aefd",
   "metadata": {},
   "outputs": [
    {
     "data": {
      "text/plain": [
       "'\\nAns. The four pillars of OOPs:\\n      1) Polymorphism: Polymorphism is the ability of objects of different classes to respond to the same method or message in a way that is specific to their individual classes\\n      2) Encapsulation: Encapsulation is the concept of bundling data (attributes) and the methods (functions) that operate on the data into a single unit known as a class. \\n      3) Inheritance: Inheritance allows one class to inherit the properties and behaviors of another class.\\n      4) Abstraction:  Abstraction is the process of simplifying complex reality by modeling classes based on their essential characteristics and ignoring non-essential details.\\n'"
      ]
     },
     "execution_count": 2,
     "metadata": {},
     "output_type": "execute_result"
    }
   ],
   "source": [
    "\"\"\"\n",
    "Ans. The four pillars of OOPs:\n",
    "      1) Polymorphism: Polymorphism is the ability of objects of different classes to respond to the same method or message in a way that is specific to their individual classes\n",
    "      2) Encapsulation: Encapsulation is the concept of bundling data (attributes) and the methods (functions) that operate on the data into a single unit known as a class. \n",
    "      3) Inheritance: Inheritance allows one class to inherit the properties and behaviors of another class.\n",
    "      4) Abstraction:  Abstraction is the process of simplifying complex reality by modeling classes based on their essential characteristics and ignoring non-essential details.\n",
    "\"\"\""
   ]
  },
  {
   "cell_type": "code",
   "execution_count": 3,
   "id": "dfc0f5bf-1375-4987-b773-20e2cbb94729",
   "metadata": {},
   "outputs": [],
   "source": [
    "# Q3. Explain why the __init__() function is used. Give a suitable example."
   ]
  },
  {
   "cell_type": "code",
   "execution_count": 7,
   "id": "309589c4-b20a-4fd8-b50b-416a54669e00",
   "metadata": {},
   "outputs": [],
   "source": [
    "\"\"\"\n",
    "Ans: The __init__() function, also known as the constructor, is used in to initialize the attributes or properties of an object when it is created from a class. \n",
    "     It is called automatically when an object is instantiated and allows you to set the initial state of the object\n",
    "\"\"\"\n",
    "class Person:\n",
    "    def __init__(self, name, age):\n",
    "        self.name = name  # Instance variable\n",
    "        self.age = age    # Instance variable"
   ]
  },
  {
   "cell_type": "code",
   "execution_count": 5,
   "id": "d25671cf-af01-4635-ad15-d024dc8266c2",
   "metadata": {},
   "outputs": [],
   "source": [
    "# Why self is used in OOPs?"
   ]
  },
  {
   "cell_type": "code",
   "execution_count": 6,
   "id": "ac3fc8d5-2447-4a9f-87d2-d501fed46ffc",
   "metadata": {},
   "outputs": [
    {
     "data": {
      "text/plain": [
       "'\\nAns: The self variable is the first parameter in the method definitions within a class, and it represents the specific instance of the class on which the method is called. It allows you\\n     to access and manipulate the attributes and methods of that instance.\\n'"
      ]
     },
     "execution_count": 6,
     "metadata": {},
     "output_type": "execute_result"
    }
   ],
   "source": [
    "\"\"\"\n",
    "Ans: The self variable is the first parameter in the method definitions within a class, and it represents the specific instance of the class on which the method is called. It allows you\n",
    "     to access and manipulate the attributes and methods of that instance.\n",
    "\"\"\""
   ]
  },
  {
   "cell_type": "code",
   "execution_count": 8,
   "id": "e126eb13-79cf-4291-9017-92b61958be00",
   "metadata": {},
   "outputs": [],
   "source": [
    "# What is inheritance? Give an example for each type of inheritance."
   ]
  },
  {
   "cell_type": "code",
   "execution_count": 11,
   "id": "c984fe74-2444-49f4-be5c-d21c6969264b",
   "metadata": {},
   "outputs": [
    {
     "name": "stdout",
     "output_type": "stream",
     "text": [
      "Woof!\n",
      "Meow!\n",
      "Method from Parent1\n",
      "Method from Parent2\n",
      "Hello from Parent\n",
      "78.5\n",
      "24\n",
      "Method from Class A\n",
      "Method from Class B\n",
      "Method from Class C\n",
      "Method from Class D\n"
     ]
    }
   ],
   "source": [
    "\"\"\"\n",
    "Ans: Inheritance is one of the fundamental concepts in object-oriented programming (OOP) it allows a new class to inherit attributes and behaviors (i.e., fields and methods) \n",
    "     from an existing class (called the base or superclass).\n",
    "     \n",
    "     Their are 5 types of Inheritance:\n",
    "     1) Single Inheritance: Single inheritance is when a class inherits from only one superclass.\n",
    "     2) Multiple Inheritance: Multiple inheritance is when a class inherits from two or more superclasses.\n",
    "     3) Multilevel Inheritance: Multilevel inheritance is when a class inherits from a class, which in turn inherits from another class.\n",
    "     4) Hierarchical Inheritance: Hierarchical inheritance is when multiple classes inherit from a single superclass.\n",
    "     5) Hybrid Inheritance: Hybrid inheritance is a combination of multiple types of inheritance. It can involve a mix of single, multiple, multilevel, or hierarchical inheritance.\n",
    "\"\"\"\n",
    "# Single Inheritance\n",
    "class Animal:\n",
    "    def speak(self):\n",
    "        pass\n",
    "\n",
    "class Dog(Animal):\n",
    "    def speak(self):\n",
    "        return \"Woof!\"\n",
    "\n",
    "class Cat(Animal):\n",
    "    def speak(self):\n",
    "        return \"Meow!\"\n",
    "\n",
    "dog = Dog()\n",
    "cat = Cat()\n",
    "\n",
    "print(dog.speak())  # Output: \"Woof!\"\n",
    "print(cat.speak())  # Output: \"Meow!\"\n",
    "\n",
    "# Multiple Inheritance\n",
    "class Parent1:\n",
    "    def method1(self):\n",
    "        return \"Method from Parent1\"\n",
    "\n",
    "class Parent2:\n",
    "    def method2(self):\n",
    "        return \"Method from Parent2\"\n",
    "\n",
    "class Child(Parent1, Parent2):\n",
    "    pass\n",
    "\n",
    "child = Child()\n",
    "\n",
    "print(child.method1())  # Output: \"Method from Parent1\"\n",
    "print(child.method2())  # Output: \"Method from Parent2\"\n",
    "\n",
    "## Multilevel Inheritance\n",
    "class Grandparent:\n",
    "    def greet(self):\n",
    "        return \"Hello from Grandparent\"\n",
    "\n",
    "class Parent(Grandparent):\n",
    "    def greet(self):\n",
    "        return \"Hello from Parent\"\n",
    "\n",
    "class Child(Parent):\n",
    "    pass\n",
    "\n",
    "child = Child()\n",
    "\n",
    "print(child.greet())  # Output: \"Hello from Parent\"\n",
    "\n",
    "#  Hierarchical Inheritance\n",
    "class Shape:\n",
    "    def area(self):\n",
    "        pass\n",
    "\n",
    "class Circle(Shape):\n",
    "    def area(self, radius):\n",
    "        return 3.14 * radius * radius\n",
    "\n",
    "class Rectangle(Shape):\n",
    "    def area(self, length, width):\n",
    "        return length * width\n",
    "\n",
    "circle = Circle()\n",
    "rectangle = Rectangle()\n",
    "\n",
    "print(circle.area(5))       \n",
    "print(rectangle.area(4, 6))  \n",
    "# Hybrid Inheritance\n",
    "class A:\n",
    "    def methodA(self):\n",
    "        return \"Method from Class A\"\n",
    "\n",
    "class B(A):\n",
    "    def methodB(self):\n",
    "        return \"Method from Class B\"\n",
    "\n",
    "class C(A):\n",
    "    def methodC(self):\n",
    "        return \"Method from Class C\"\n",
    "\n",
    "class D(B, C):\n",
    "    def methodD(self):\n",
    "        return \"Method from Class D\"\n",
    "\n",
    "d = D()\n",
    "\n",
    "print(d.methodA())  # Output: \"Method from Class A\"\n",
    "print(d.methodB())  # Output: \"Method from Class B\"\n",
    "print(d.methodC())  # Output: \"Method from Class C\"\n",
    "print(d.methodD())  # Output: \"Method from Class D\"\n"
   ]
  },
  {
   "cell_type": "code",
   "execution_count": null,
   "id": "4b0df5f1-29b4-47cc-a3c7-1274806b1e53",
   "metadata": {},
   "outputs": [],
   "source": []
  }
 ],
 "metadata": {
  "kernelspec": {
   "display_name": "Python 3 (ipykernel)",
   "language": "python",
   "name": "python3"
  },
  "language_info": {
   "codemirror_mode": {
    "name": "ipython",
    "version": 3
   },
   "file_extension": ".py",
   "mimetype": "text/x-python",
   "name": "python",
   "nbconvert_exporter": "python",
   "pygments_lexer": "ipython3",
   "version": "3.10.8"
  }
 },
 "nbformat": 4,
 "nbformat_minor": 5
}
